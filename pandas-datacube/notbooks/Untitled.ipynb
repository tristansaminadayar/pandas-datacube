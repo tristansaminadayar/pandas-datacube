{
 "cells": [
  {
   "cell_type": "code",
   "execution_count": 1,
   "id": "d65f68a1-5d50-4dc0-afd2-9da0c9ae1cb9",
   "metadata": {},
   "outputs": [],
   "source": [
    "import rdflib"
   ]
  },
  {
   "cell_type": "code",
   "execution_count": 74,
   "id": "f72e7dd3-66c7-4c0b-9fe6-5c59ef9b2321",
   "metadata": {},
   "outputs": [
    {
     "data": {
      "text/plain": [
       "<Graph identifier=N1e76650c7435439ca651d97b54d10bc2 (<class 'rdflib.graph.Graph'>)>"
      ]
     },
     "execution_count": 74,
     "metadata": {},
     "output_type": "execute_result"
    }
   ],
   "source": [
    "g = rdflib.Graph()\n",
    "g.parse(\"http://kaiko.getalp.org/dbnary\", format = 'xml')"
   ]
  },
  {
   "cell_type": "code",
   "execution_count": 75,
   "id": "16a88ceb-b0fd-4bd8-8ff8-1a292a871e08",
   "metadata": {},
   "outputs": [],
   "source": [
    "query = \"\"\"select distinct ?item ?property ?value where {\n",
    "    {\n",
    "        select ?item {<http://kaiko.getalp.org/dbnary#dbnaryStatisticsDataStructure> cube:component ?item}\n",
    "    }\n",
    "    ?item ?property ?value\n",
    "\n",
    "}\"\"\""
   ]
  },
  {
   "cell_type": "code",
   "execution_count": 76,
   "id": "fae0b844-1601-4f3f-9425-38d4af0ebe1b",
   "metadata": {},
   "outputs": [],
   "source": [
    "res = g.query(query)"
   ]
  },
  {
   "cell_type": "code",
   "execution_count": 78,
   "id": "9627b06a-4621-4ce6-94de-15a317b969ef",
   "metadata": {},
   "outputs": [
    {
     "name": "stdout",
     "output_type": "stream",
     "text": [
      "http://purl.org/linked-data/cube#measure http://kaiko.getalp.org/dbnary#lexicalEntryCount\n",
      "http://purl.org/linked-data/cube#dimension http://kaiko.getalp.org/dbnary#observationLanguage\n",
      "http://purl.org/linked-data/cube#measure http://kaiko.getalp.org/dbnary#translationsCount\n",
      "http://purl.org/linked-data/cube#measure http://kaiko.getalp.org/dbnary#pageCount\n",
      "http://purl.org/linked-data/cube#dimension http://kaiko.getalp.org/dbnary#wiktionaryDumpVersion\n",
      "http://purl.org/linked-data/cube#measure http://kaiko.getalp.org/dbnary#lexicalSenseCount\n"
     ]
    }
   ],
   "source": [
    "for a, b, c in res:\n",
    "    print(b, c)"
   ]
  },
  {
   "cell_type": "code",
   "execution_count": 24,
   "id": "7fbc66dc-e3cf-4769-bdd9-883b02b4317d",
   "metadata": {},
   "outputs": [
    {
     "data": {
      "text/plain": [
       "[1, 2, 3, 4, 4, 5, 3]"
      ]
     },
     "execution_count": 24,
     "metadata": {},
     "output_type": "execute_result"
    }
   ],
   "source": [
    "[1, 2, 3, 4] + [4, 5, 3]"
   ]
  },
  {
   "cell_type": "code",
   "execution_count": 28,
   "id": "23efc3af-170b-4ed8-8d63-624137531716",
   "metadata": {},
   "outputs": [
    {
     "name": "stdout",
     "output_type": "stream",
     "text": [
      "<?xml version=\"1.0\" encoding=\"utf-8\"?>\n",
      "<sparql xmlns=\"http://www.w3.org/2005/sparql-results#\" xmlns:xml=\"http://www.w3.org/XML/1998/namespace\"><head><variable name=\"item\"></variable><variable name=\"property\"></variable><variable name=\"value\"></variable></head><results><result><binding name=\"item\"><bnode>N5b38fcf345cb4ba78dbbae89fe398b28</bnode></binding><binding name=\"property\"><uri>http://purl.org/linked-data/cube#measure</uri></binding><binding name=\"value\"><uri>http://kaiko.getalp.org/dbnary#pageCount</uri></binding></result><result><binding name=\"item\"><bnode>N319596c006cb41b9864bc3b953c13da8</bnode></binding><binding name=\"property\"><uri>http://purl.org/linked-data/cube#measure</uri></binding><binding name=\"value\"><uri>http://kaiko.getalp.org/dbnary#translationsCount</uri></binding></result><result><binding name=\"item\"><bnode>N3d2c83e636b0461399add98b1a243487</bnode></binding><binding name=\"property\"><uri>http://purl.org/linked-data/cube#measure</uri></binding><binding name=\"value\"><uri>http://kaiko.getalp.org/dbnary#lexicalEntryCount</uri></binding></result><result><binding name=\"item\"><bnode>Nff90702ac9bf431d924ee8da99e61146</bnode></binding><binding name=\"property\"><uri>http://purl.org/linked-data/cube#measure</uri></binding><binding name=\"value\"><uri>http://kaiko.getalp.org/dbnary#lexicalSenseCount</uri></binding></result><result><binding name=\"item\"><bnode>N55999777893349dd804e4cf7f0f04359</bnode></binding><binding name=\"property\"><uri>http://purl.org/linked-data/cube#dimension</uri></binding><binding name=\"value\"><uri>http://kaiko.getalp.org/dbnary#wiktionaryDumpVersion</uri></binding></result><result><binding name=\"item\"><bnode>Nf61de25983204ef5a684444808d03609</bnode></binding><binding name=\"property\"><uri>http://purl.org/linked-data/cube#dimension</uri></binding><binding name=\"value\"><uri>http://kaiko.getalp.org/dbnary#observationLanguage</uri></binding></result></results></sparql>\n"
     ]
    }
   ],
   "source": [
    "print(res.serialize().decode('utf-8'))"
   ]
  },
  {
   "cell_type": "code",
   "execution_count": null,
   "id": "46f4835d-34c9-44b2-8a33-269313f0a797",
   "metadata": {},
   "outputs": [],
   "source": []
  }
 ],
 "metadata": {
  "kernelspec": {
   "display_name": "dbnary-datacube",
   "language": "python",
   "name": "ex"
  },
  "language_info": {
   "codemirror_mode": {
    "name": "ipython",
    "version": 3
   },
   "file_extension": ".py",
   "mimetype": "text/x-python",
   "name": "python",
   "nbconvert_exporter": "python",
   "pygments_lexer": "ipython3",
   "version": "3.9.5"
  }
 },
 "nbformat": 4,
 "nbformat_minor": 5
}
