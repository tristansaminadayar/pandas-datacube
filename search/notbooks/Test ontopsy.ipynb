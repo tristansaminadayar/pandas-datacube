{
 "cells": [
  {
   "cell_type": "code",
   "execution_count": 1,
   "id": "b944b07d-242c-4ff7-b254-bdcc8bcdac3e",
   "metadata": {},
   "outputs": [],
   "source": [
    "import ontospy"
   ]
  },
  {
   "cell_type": "code",
   "execution_count": 28,
   "id": "214ea8e7-f739-4c33-be16-888a3e01d331",
   "metadata": {},
   "outputs": [
    {
     "name": "stdout",
     "output_type": "stream",
     "text": [
      "\u001b[32mReading: <http://kaiko.getalp.org/static/datamodel/2.1.1/ontology.xml>\u001b[0m\n",
      ".. trying rdf serialization: <xml>\u001b[0m\n",
      "\u001b[1m..... success!\u001b[0m\n",
      "\u001b[37m----------\n",
      "Loaded 448 triples.\n",
      "----------\u001b[0m\n",
      "\u001b[32mRDF sources loaded successfully: 1 of 1.\u001b[0m\n",
      "\u001b[37m..... 'http://kaiko.getalp.org/static/datamodel/2.1.1/ontology.xml'\u001b[0m\n",
      "\u001b[37m----------\u001b[0m\n"
     ]
    },
    {
     "name": "stderr",
     "output_type": "stream",
     "text": [
      "\u001b[32mScanning entities...\u001b[0m\n",
      "\u001b[2m----------\u001b[0m\n",
      "\u001b[2mOntologies.........: 1\u001b[0m\n",
      "\u001b[2mClasses............: 7\u001b[0m\n",
      "\u001b[2mProperties.........: 37\u001b[0m\n",
      "\u001b[2m..annotation.......: 2\u001b[0m\n",
      "\u001b[2m..datatype.........: 7\u001b[0m\n",
      "\u001b[2m..object...........: 28\u001b[0m\n",
      "\u001b[2mConcepts (SKOS)....: 0\u001b[0m\n",
      "\u001b[2mShapes (SHACL).....: 0\u001b[0m\n",
      "\u001b[2m----------\u001b[0m\n"
     ]
    }
   ],
   "source": [
    "model = ontospy.Ontospy(\"http://kaiko.getalp.org/dbnary\", verbose = True)"
   ]
  },
  {
   "cell_type": "code",
   "execution_count": 32,
   "id": "9436c60a-1342-49a5-a61b-d2055363f9cf",
   "metadata": {},
   "outputs": [
    {
     "data": {
      "text/plain": [
       "{0: [<Property *http://kaiko.getalp.org/dbnary#antonym*>,\n",
       "  <Property *http://kaiko.getalp.org/dbnary#approximateSynonym*>,\n",
       "  <Property *http://kaiko.getalp.org/dbnary#count*>,\n",
       "  <Property *http://kaiko.getalp.org/dbnary#describes*>,\n",
       "  <Property *http://kaiko.getalp.org/dbnary#enhancementMethod*>,\n",
       "  <Property *http://kaiko.getalp.org/dbnary#extractorVersion*>,\n",
       "  <Property *http://kaiko.getalp.org/dbnary#f1Measure*>,\n",
       "  <Property *http://kaiko.getalp.org/dbnary#gloss*>,\n",
       "  <Property *http://kaiko.getalp.org/dbnary#holonym*>,\n",
       "  <Property *http://kaiko.getalp.org/dbnary#hypernym*>,\n",
       "  <Property *http://kaiko.getalp.org/dbnary#hyponym*>,\n",
       "  <Property *http://kaiko.getalp.org/dbnary#isTranslationOf*>,\n",
       "  <Property *http://kaiko.getalp.org/dbnary#lexicalEntryCount*>,\n",
       "  <Property *http://kaiko.getalp.org/dbnary#lexicalSenseCount*>,\n",
       "  <Property *http://kaiko.getalp.org/dbnary#meronym*>,\n",
       "  <Property *http://kaiko.getalp.org/dbnary#nymRelation*>,\n",
       "  <Property *http://kaiko.getalp.org/dbnary#observationLanguage*>,\n",
       "  <Property *http://kaiko.getalp.org/dbnary#pageCount*>,\n",
       "  <Property *http://kaiko.getalp.org/dbnary#partOfSpeech*>,\n",
       "  <Property *http://kaiko.getalp.org/dbnary#precisionMeasure*>,\n",
       "  <Property *http://kaiko.getalp.org/dbnary#rank*>,\n",
       "  <Property *http://kaiko.getalp.org/dbnary#recallMeasure*>,\n",
       "  <Property *http://kaiko.getalp.org/dbnary#senseNumber*>,\n",
       "  <Property *http://kaiko.getalp.org/dbnary#synonym*>,\n",
       "  <Property *http://kaiko.getalp.org/dbnary#targetLanguage*>,\n",
       "  <Property *http://kaiko.getalp.org/dbnary#targetLanguageCode*>,\n",
       "  <Property *http://kaiko.getalp.org/dbnary#translationsCount*>,\n",
       "  <Property *http://kaiko.getalp.org/dbnary#translationsWithNoGloss*>,\n",
       "  <Property *http://kaiko.getalp.org/dbnary#translationsWithSenseNumber*>,\n",
       "  <Property *http://kaiko.getalp.org/dbnary#translationsWithSenseNumberAndTextualGloss*>,\n",
       "  <Property *http://kaiko.getalp.org/dbnary#translationsWithTextualGloss*>,\n",
       "  <Property *http://kaiko.getalp.org/dbnary#troponym*>,\n",
       "  <Property *http://kaiko.getalp.org/dbnary#usage*>,\n",
       "  <Property *http://kaiko.getalp.org/dbnary#wiktionaryDumpVersion*>,\n",
       "  <Property *http://kaiko.getalp.org/dbnary#writtenForm*>,\n",
       "  <Property *http://purl.org/dc/terms/abstract*>,\n",
       "  <Property *http://purl.org/dc/terms/creator*>]}"
      ]
     },
     "execution_count": 32,
     "metadata": {},
     "output_type": "execute_result"
    }
   ],
   "source": [
    "model.ontologyPropTree()"
   ]
  },
  {
   "cell_type": "code",
   "execution_count": 64,
   "id": "f0e27385-9937-4c06-8921-3472c7d1348d",
   "metadata": {},
   "outputs": [],
   "source": [
    "a = model.get_property('pageCount')[0]"
   ]
  },
  {
   "cell_type": "code",
   "execution_count": 65,
   "id": "9041a2ef-cb79-42cf-b6f2-99b9744447ac",
   "metadata": {},
   "outputs": [],
   "source": [
    "g = a.rdflib_graph"
   ]
  },
  {
   "cell_type": "code",
   "execution_count": 66,
   "id": "809dd106-51ce-4dad-8138-a75487218fae",
   "metadata": {},
   "outputs": [
    {
     "name": "stdout",
     "output_type": "stream",
     "text": [
      "@prefix : <http://kaiko.getalp.org/dbnary#> .\n",
      "@prefix cube: <http://purl.org/linked-data/cube#> .\n",
      "@prefix owl: <http://www.w3.org/2002/07/owl#> .\n",
      "@prefix rdfs: <http://www.w3.org/2000/01/rdf-schema#> .\n",
      "@prefix xsd: <http://www.w3.org/2001/XMLSchema#> .\n",
      "\n",
      ":pageCount a cube:MeasureProperty,\n",
      "        owl:DatatypeProperty,\n",
      "        owl:NamedIndividual ;\n",
      "    rdfs:label \"count of Pages\"@en ;\n",
      "    rdfs:comment \"count of dbnary Pages contained in a specific extract.\"@en ;\n",
      "    rdfs:range xsd:int .\n",
      "\n",
      "\n"
     ]
    }
   ],
   "source": [
    "print(g.serialize(format = 'turtle').decode(\"utf-8\"))"
   ]
  },
  {
   "cell_type": "code",
   "execution_count": 73,
   "id": "e6bf4240-7af8-4052-a2e7-594c3e004816",
   "metadata": {},
   "outputs": [
    {
     "name": "stdout",
     "output_type": "stream",
     "text": [
      "\n",
      "@prefix : <http://kaiko.getalp.org/dbnary#> .\n",
      "@prefix cube: <http://purl.org/linked-data/cube#> .\n",
      "@prefix owl: <http://www.w3.org/2002/07/owl#> .\n",
      "@prefix rdfs: <http://www.w3.org/2000/01/rdf-schema#> .\n",
      "@prefix xsd: <http://www.w3.org/2001/XMLSchema#> .\n",
      "\n",
      ":pageCount a cube:MeasureProperty,\n",
      "        owl:DatatypeProperty,\n",
      "        owl:NamedIndividual ;\n",
      "    rdfs:label \"count of Pages\"@en ;\n",
      "    rdfs:comment \"count of dbnary Pages contained in a specific extract.\"@en ;\n",
      "    rdfs:range xsd:int .\n",
      "\n",
      "\u001b[0m\n"
     ]
    }
   ],
   "source": [
    "a.printSerialize()"
   ]
  }
 ],
 "metadata": {
  "kernelspec": {
   "display_name": "dbnary-datacube",
   "language": "python",
   "name": "ex"
  },
  "language_info": {
   "codemirror_mode": {
    "name": "ipython",
    "version": 3
   },
   "file_extension": ".py",
   "mimetype": "text/x-python",
   "name": "python",
   "nbconvert_exporter": "python",
   "pygments_lexer": "ipython3",
   "version": "3.9.5"
  }
 },
 "nbformat": 4,
 "nbformat_minor": 5
}
