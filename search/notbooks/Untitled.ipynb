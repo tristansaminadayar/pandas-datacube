{
 "cells": [
  {
   "cell_type": "code",
   "execution_count": 1,
   "metadata": {},
   "outputs": [
    {
     "data": {
      "text/plain": [
       "{'head': {'link': [], 'vars': ['values']},\n",
       " 'results': {'distinct': False,\n",
       "  'ordered': True,\n",
       "  'bindings': [{'values': {'type': 'uri',\n",
       "     'value': 'http://kaiko.getalp.org/dbnary/statistics/dbnaryNymRelationsCube'}},\n",
       "   {'values': {'type': 'uri',\n",
       "     'value': 'http://kaiko.getalp.org/dbnary/statistics/dbnaryStatisticsCube'}},\n",
       "   {'values': {'type': 'uri',\n",
       "     'value': 'http://kaiko.getalp.org/dbnary/statistics/dbnaryTranslationsCube'}},\n",
       "   {'values': {'type': 'uri',\n",
       "     'value': 'http://kaiko.getalp.org/dbnary/statistics/enhancementConfidenceDataCube'}},\n",
       "   {'values': {'type': 'uri',\n",
       "     'value': 'http://kaiko.getalp.org/dbnary/statistics/translationGlossesCube'}}]}}"
      ]
     },
     "execution_count": 1,
     "metadata": {},
     "output_type": "execute_result"
    }
   ],
   "source": [
    "from SPARQLWrapper import SPARQLWrapper, JSON\n",
    "\n",
    "endpoint: str = \"http://kaiko.getalp.org/sparql\"\n",
    "statement: str = \"\"\"\n",
    "SELECT ?values\n",
    "WHERE {?values rdf:type qb:DataSet}\n",
    "LIMIT 100\n",
    "\"\"\"\n",
    "\n",
    "sparql: SPARQLWrapper = SPARQLWrapper(endpoint)\n",
    "sparql.setQuery(statement)  # Link to query\n",
    "\n",
    "sparql.setReturnFormat(JSON)  \n",
    "\n",
    "results = sparql.query().convert()\n",
    "results"
   ]
  },
  {
   "cell_type": "code",
   "execution_count": 2,
   "metadata": {},
   "outputs": [
    {
     "data": {
      "text/plain": [
       "['http://kaiko.getalp.org/dbnary/statistics/dbnaryNymRelationsCube',\n",
       " 'http://kaiko.getalp.org/dbnary/statistics/dbnaryStatisticsCube',\n",
       " 'http://kaiko.getalp.org/dbnary/statistics/dbnaryTranslationsCube',\n",
       " 'http://kaiko.getalp.org/dbnary/statistics/enhancementConfidenceDataCube',\n",
       " 'http://kaiko.getalp.org/dbnary/statistics/translationGlossesCube']"
      ]
     },
     "execution_count": 2,
     "metadata": {},
     "output_type": "execute_result"
    }
   ],
   "source": [
    "values = [item['values']['value'] for item in results['results']['bindings']]\n",
    "values"
   ]
  },
  {
   "cell_type": "code",
   "execution_count": 5,
   "metadata": {},
   "outputs": [
    {
     "name": "stdout",
     "output_type": "stream",
     "text": [
      "\n",
      "\n",
      "\n",
      "\n",
      "@prefix qb: <http://purl.org/linked-data/cube#> .\n",
      "@prefix rdfs: <http://www.w3.org/2000/01/rdf-schema#> .\n",
      "\n",
      "<http://kaiko.getalp.org/dbnary/statistics/dbnaryNymRelationsCube> a qb:DataSet,\n",
      "        <http://www.w3.org/2002/07/owl#NamedIndividual> ;\n",
      "    qb:structure <http://kaiko.getalp.org/dbnary#dbnaryNymRelationsDataStructure> ;\n",
      "    rdfs:comment \"The Data Cube containing observations on nym relations for a specific DBnary extract.\"@en .\n",
      "\n",
      "\n",
      "\n",
      "\n",
      "\n",
      "\n",
      "@prefix qb: <http://purl.org/linked-data/cube#> .\n",
      "@prefix rdfs: <http://www.w3.org/2000/01/rdf-schema#> .\n",
      "\n",
      "<http://kaiko.getalp.org/dbnary/statistics/dbnaryStatisticsCube> a qb:DataSet,\n",
      "        <http://www.w3.org/2002/07/owl#NamedIndividual> ;\n",
      "    qb:structure <http://kaiko.getalp.org/dbnary#dbnaryStatisticsDataStructure> ;\n",
      "    rdfs:comment \"The Data Cube containing general observations on a specific DBnary extract.\"@en .\n",
      "\n",
      "\n",
      "\n",
      "\n",
      "\n",
      "\n",
      "@prefix qb: <http://purl.org/linked-data/cube#> .\n",
      "@prefix rdfs: <http://www.w3.org/2000/01/rdf-schema#> .\n",
      "\n",
      "<http://kaiko.getalp.org/dbnary/statistics/dbnaryTranslationsCube> a qb:DataSet,\n",
      "        <http://www.w3.org/2002/07/owl#NamedIndividual> ;\n",
      "    qb:structure <http://kaiko.getalp.org/dbnary#dbnaryTranslationsDataStructure> ;\n",
      "    rdfs:comment \"The Data Cube containing observations on translations for a specific DBnary extract.\"@en .\n",
      "\n",
      "\n",
      "\n",
      "\n",
      "\n",
      "\n",
      "@prefix qb: <http://purl.org/linked-data/cube#> .\n",
      "@prefix rdfs: <http://www.w3.org/2000/01/rdf-schema#> .\n",
      "\n",
      "<http://kaiko.getalp.org/dbnary/statistics/enhancementConfidenceDataCube> a qb:DataSet,\n",
      "        <http://www.w3.org/2002/07/owl#NamedIndividual> ;\n",
      "    qb:structure <http://kaiko.getalp.org/dbnary#enhancementConfidenceDataStructure> ;\n",
      "    rdfs:comment \"The Data Cube containing the confidence measures of the enhancement process for each wiktionary dump. Both effective confidence and random baselines are given.\"@en .\n",
      "\n",
      "\n",
      "\n",
      "\n",
      "\n",
      "\n",
      "@prefix qb: <http://purl.org/linked-data/cube#> .\n",
      "@prefix rdfs: <http://www.w3.org/2000/01/rdf-schema#> .\n",
      "\n",
      "<http://kaiko.getalp.org/dbnary/statistics/translationGlossesCube> a qb:DataSet,\n",
      "        <http://www.w3.org/2002/07/owl#NamedIndividual> ;\n",
      "    qb:structure <http://kaiko.getalp.org/dbnary#translationGlossesDataStructure> ;\n",
      "    rdfs:comment \"The Data Cube containing observations on glosses attached to translations.\"@en .\n",
      "\n",
      "\n"
     ]
    }
   ],
   "source": [
    "import rdflib\n",
    "\n",
    "for item in values:\n",
    "    g = rdflib.Graph()\n",
    "    result = g.parse(item)\n",
    "    print(\"\\n\\n\\n\")\n",
    "    print(g.serialize(format=\"turtle\").decode(\"utf-8\"))"
   ]
  },
  {
   "cell_type": "code",
   "execution_count": 4,
   "metadata": {},
   "outputs": [
    {
     "data": {
      "text/plain": [
       "{'head': {'link': [], 'vars': ['values']},\n",
       " 'results': {'distinct': False,\n",
       "  'ordered': True,\n",
       "  'bindings': [{'values': {'type': 'uri',\n",
       "     'value': 'http://kaiko.getalp.org/dbnary#dbnaryNymRelationsDataStructure'}},\n",
       "   {'values': {'type': 'uri',\n",
       "     'value': 'http://kaiko.getalp.org/dbnary#dbnaryStatisticsDataStructure'}},\n",
       "   {'values': {'type': 'uri',\n",
       "     'value': 'http://kaiko.getalp.org/dbnary#dbnaryTranslationsDataStructure'}},\n",
       "   {'values': {'type': 'uri',\n",
       "     'value': 'http://kaiko.getalp.org/dbnary#enhancementConfidenceDataStructure'}},\n",
       "   {'values': {'type': 'uri',\n",
       "     'value': 'http://kaiko.getalp.org/dbnary#translationGlossesDataStructure'}}]}}"
      ]
     },
     "execution_count": 4,
     "metadata": {},
     "output_type": "execute_result"
    }
   ],
   "source": [
    "from SPARQLWrapper import SPARQLWrapper, JSON\n",
    "\n",
    "endpoint: str = \"http://kaiko.getalp.org/sparql\"\n",
    "statement: str = \"\"\"\n",
    "SELECT ?values\n",
    "WHERE {?values rdf:type qb:DataStructureDefinition}\n",
    "LIMIT 100\n",
    "\"\"\"\n",
    "\n",
    "sparql: SPARQLWrapper = SPARQLWrapper(endpoint)\n",
    "sparql.setQuery(statement)  # Link to query\n",
    "\n",
    "sparql.setReturnFormat(JSON)  \n",
    "\n",
    "results = sparql.query().convert()\n",
    "results"
   ]
  },
  {
   "cell_type": "code",
   "execution_count": 11,
   "metadata": {},
   "outputs": [
    {
     "data": {
      "text/plain": [
       "['http://kaiko.getalp.org/dbnary#dbnaryNymRelationsDataStructure',\n",
       " 'http://kaiko.getalp.org/dbnary#dbnaryStatisticsDataStructure',\n",
       " 'http://kaiko.getalp.org/dbnary#dbnaryTranslationsDataStructure',\n",
       " 'http://kaiko.getalp.org/dbnary#enhancementConfidenceDataStructure',\n",
       " 'http://kaiko.getalp.org/dbnary#translationGlossesDataStructure']"
      ]
     },
     "execution_count": 11,
     "metadata": {},
     "output_type": "execute_result"
    }
   ],
   "source": [
    "values = [item['values']['value'] for item in results['results']['bindings']]\n",
    "values"
   ]
  },
  {
   "cell_type": "code",
   "execution_count": 12,
   "metadata": {},
   "outputs": [
    {
     "ename": "PluginException",
     "evalue": "No plugin registered for (text/xml, <class 'rdflib.parser.Parser'>)",
     "output_type": "error",
     "traceback": [
      "\u001b[1;31m---------------------------------------------------------------------------\u001b[0m",
      "\u001b[1;31mKeyError\u001b[0m                                  Traceback (most recent call last)",
      "\u001b[1;32mC:\\ProgramData\\Anaconda3\\envs\\dbnary-datacube\\lib\\site-packages\\rdflib\\plugin.py\u001b[0m in \u001b[0;36mget\u001b[1;34m(name, kind)\u001b[0m\n\u001b[0;32m    102\u001b[0m     \u001b[1;32mtry\u001b[0m\u001b[1;33m:\u001b[0m\u001b[1;33m\u001b[0m\u001b[1;33m\u001b[0m\u001b[0m\n\u001b[1;32m--> 103\u001b[1;33m         \u001b[0mp\u001b[0m \u001b[1;33m=\u001b[0m \u001b[0m_plugins\u001b[0m\u001b[1;33m[\u001b[0m\u001b[1;33m(\u001b[0m\u001b[0mname\u001b[0m\u001b[1;33m,\u001b[0m \u001b[0mkind\u001b[0m\u001b[1;33m)\u001b[0m\u001b[1;33m]\u001b[0m\u001b[1;33m\u001b[0m\u001b[1;33m\u001b[0m\u001b[0m\n\u001b[0m\u001b[0;32m    104\u001b[0m     \u001b[1;32mexcept\u001b[0m \u001b[0mKeyError\u001b[0m\u001b[1;33m:\u001b[0m\u001b[1;33m\u001b[0m\u001b[1;33m\u001b[0m\u001b[0m\n",
      "\u001b[1;31mKeyError\u001b[0m: ('text/xml', <class 'rdflib.parser.Parser'>)",
      "\nDuring handling of the above exception, another exception occurred:\n",
      "\u001b[1;31mPluginException\u001b[0m                           Traceback (most recent call last)",
      "\u001b[1;32m<ipython-input-12-8600ed6b921b>\u001b[0m in \u001b[0;36m<module>\u001b[1;34m\u001b[0m\n\u001b[0;32m      1\u001b[0m \u001b[1;32mfor\u001b[0m \u001b[0mitem\u001b[0m \u001b[1;32min\u001b[0m \u001b[0mvalues\u001b[0m\u001b[1;33m:\u001b[0m\u001b[1;33m\u001b[0m\u001b[1;33m\u001b[0m\u001b[0m\n\u001b[0;32m      2\u001b[0m     \u001b[0mg\u001b[0m \u001b[1;33m=\u001b[0m \u001b[0mrdflib\u001b[0m\u001b[1;33m.\u001b[0m\u001b[0mGraph\u001b[0m\u001b[1;33m(\u001b[0m\u001b[1;33m)\u001b[0m\u001b[1;33m\u001b[0m\u001b[1;33m\u001b[0m\u001b[0m\n\u001b[1;32m----> 3\u001b[1;33m     \u001b[0mresult\u001b[0m \u001b[1;33m=\u001b[0m \u001b[0mg\u001b[0m\u001b[1;33m.\u001b[0m\u001b[0mparse\u001b[0m\u001b[1;33m(\u001b[0m\u001b[0mitem\u001b[0m\u001b[1;33m)\u001b[0m\u001b[1;33m\u001b[0m\u001b[1;33m\u001b[0m\u001b[0m\n\u001b[0m\u001b[0;32m      4\u001b[0m     \u001b[1;32mfor\u001b[0m \u001b[0ma\u001b[0m\u001b[1;33m,\u001b[0m \u001b[0mb\u001b[0m\u001b[1;33m,\u001b[0m \u001b[0mc\u001b[0m \u001b[1;32min\u001b[0m \u001b[0mg\u001b[0m\u001b[1;33m:\u001b[0m\u001b[1;33m\u001b[0m\u001b[1;33m\u001b[0m\u001b[0m\n\u001b[0;32m      5\u001b[0m         \u001b[0mprint\u001b[0m\u001b[1;33m(\u001b[0m\u001b[0ma\u001b[0m\u001b[1;33m,\u001b[0m\u001b[0mb\u001b[0m\u001b[1;33m,\u001b[0m\u001b[0mc\u001b[0m\u001b[1;33m)\u001b[0m\u001b[1;33m\u001b[0m\u001b[1;33m\u001b[0m\u001b[0m\n",
      "\u001b[1;32mC:\\ProgramData\\Anaconda3\\envs\\dbnary-datacube\\lib\\site-packages\\rdflib\\graph.py\u001b[0m in \u001b[0;36mparse\u001b[1;34m(self, source, publicID, format, location, file, data, **args)\u001b[0m\n\u001b[0;32m   1074\u001b[0m             \u001b[1;31m# \"expicitly specify one with the format argument.\" % source)\u001b[0m\u001b[1;33m\u001b[0m\u001b[1;33m\u001b[0m\u001b[1;33m\u001b[0m\u001b[0m\n\u001b[0;32m   1075\u001b[0m             \u001b[0mformat\u001b[0m \u001b[1;33m=\u001b[0m \u001b[1;34m\"application/rdf+xml\"\u001b[0m\u001b[1;33m\u001b[0m\u001b[1;33m\u001b[0m\u001b[0m\n\u001b[1;32m-> 1076\u001b[1;33m         \u001b[0mparser\u001b[0m \u001b[1;33m=\u001b[0m \u001b[0mplugin\u001b[0m\u001b[1;33m.\u001b[0m\u001b[0mget\u001b[0m\u001b[1;33m(\u001b[0m\u001b[0mformat\u001b[0m\u001b[1;33m,\u001b[0m \u001b[0mParser\u001b[0m\u001b[1;33m)\u001b[0m\u001b[1;33m(\u001b[0m\u001b[1;33m)\u001b[0m\u001b[1;33m\u001b[0m\u001b[1;33m\u001b[0m\u001b[0m\n\u001b[0m\u001b[0;32m   1077\u001b[0m         \u001b[1;32mtry\u001b[0m\u001b[1;33m:\u001b[0m\u001b[1;33m\u001b[0m\u001b[1;33m\u001b[0m\u001b[0m\n\u001b[0;32m   1078\u001b[0m             \u001b[0mparser\u001b[0m\u001b[1;33m.\u001b[0m\u001b[0mparse\u001b[0m\u001b[1;33m(\u001b[0m\u001b[0msource\u001b[0m\u001b[1;33m,\u001b[0m \u001b[0mself\u001b[0m\u001b[1;33m,\u001b[0m \u001b[1;33m**\u001b[0m\u001b[0margs\u001b[0m\u001b[1;33m)\u001b[0m\u001b[1;33m\u001b[0m\u001b[1;33m\u001b[0m\u001b[0m\n",
      "\u001b[1;32mC:\\ProgramData\\Anaconda3\\envs\\dbnary-datacube\\lib\\site-packages\\rdflib\\plugin.py\u001b[0m in \u001b[0;36mget\u001b[1;34m(name, kind)\u001b[0m\n\u001b[0;32m    103\u001b[0m         \u001b[0mp\u001b[0m \u001b[1;33m=\u001b[0m \u001b[0m_plugins\u001b[0m\u001b[1;33m[\u001b[0m\u001b[1;33m(\u001b[0m\u001b[0mname\u001b[0m\u001b[1;33m,\u001b[0m \u001b[0mkind\u001b[0m\u001b[1;33m)\u001b[0m\u001b[1;33m]\u001b[0m\u001b[1;33m\u001b[0m\u001b[1;33m\u001b[0m\u001b[0m\n\u001b[0;32m    104\u001b[0m     \u001b[1;32mexcept\u001b[0m \u001b[0mKeyError\u001b[0m\u001b[1;33m:\u001b[0m\u001b[1;33m\u001b[0m\u001b[1;33m\u001b[0m\u001b[0m\n\u001b[1;32m--> 105\u001b[1;33m         raise PluginException(\n\u001b[0m\u001b[0;32m    106\u001b[0m             \"No plugin registered for (%s, %s)\" % (name, kind))\n\u001b[0;32m    107\u001b[0m     \u001b[1;32mreturn\u001b[0m \u001b[0mp\u001b[0m\u001b[1;33m.\u001b[0m\u001b[0mgetClass\u001b[0m\u001b[1;33m(\u001b[0m\u001b[1;33m)\u001b[0m\u001b[1;33m\u001b[0m\u001b[1;33m\u001b[0m\u001b[0m\n",
      "\u001b[1;31mPluginException\u001b[0m: No plugin registered for (text/xml, <class 'rdflib.parser.Parser'>)"
     ]
    }
   ],
   "source": [
    "for item in values:\n",
    "    g = rdflib.Graph()\n",
    "    result = g.parse(item)\n",
    "    for a, b, c in g:\n",
    "        print(a,b,c)\n",
    "    print(\"\\n\\n\\n\")\n",
    "    #print(g.serialize(format=\"turtle\").decode(\"utf-8\"))"
   ]
  },
  {
   "cell_type": "code",
   "execution_count": null,
   "metadata": {},
   "outputs": [],
   "source": []
  }
 ],
 "metadata": {
  "kernelspec": {
   "display_name": "dbnary-datacube",
   "language": "python",
   "name": "ex"
  },
  "language_info": {
   "codemirror_mode": {
    "name": "ipython",
    "version": 3
   },
   "file_extension": ".py",
   "mimetype": "text/x-python",
   "name": "python",
   "nbconvert_exporter": "python",
   "pygments_lexer": "ipython3",
   "version": "3.9.5"
  }
 },
 "nbformat": 4,
 "nbformat_minor": 4
}
