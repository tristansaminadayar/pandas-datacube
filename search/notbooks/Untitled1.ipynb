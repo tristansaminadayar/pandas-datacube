{
 "cells": [
  {
   "cell_type": "code",
   "execution_count": 6,
   "id": "b4af3be3-3f4f-4ef0-ada5-ca9aa7b7cdc1",
   "metadata": {},
   "outputs": [],
   "source": [
    "%run ../../src/Dataset_tools"
   ]
  },
  {
   "cell_type": "code",
   "execution_count": 8,
   "id": "96da179f-d443-4c6c-86da-700e2287b696",
   "metadata": {},
   "outputs": [
    {
     "data": {
      "application/vnd.jupyter.widget-view+json": {
       "model_id": "",
       "version_major": 2,
       "version_minor": 0
      },
      "text/plain": [
       "IntProgress(value=0, bar_style='success', description='Loading:')"
      ]
     },
     "metadata": {},
     "output_type": "display_data"
    },
    {
     "data": {
      "text/html": [
       "<div>\n",
       "<style scoped>\n",
       "    .dataframe tbody tr th:only-of-type {\n",
       "        vertical-align: middle;\n",
       "    }\n",
       "\n",
       "    .dataframe tbody tr th {\n",
       "        vertical-align: top;\n",
       "    }\n",
       "\n",
       "    .dataframe thead th {\n",
       "        text-align: right;\n",
       "    }\n",
       "</style>\n",
       "<table border=\"1\" class=\"dataframe\">\n",
       "  <thead>\n",
       "    <tr style=\"text-align: right;\">\n",
       "      <th></th>\n",
       "      <th>structure</th>\n",
       "      <th>dataset</th>\n",
       "      <th>commentaire</th>\n",
       "    </tr>\n",
       "  </thead>\n",
       "  <tbody>\n",
       "    <tr>\n",
       "      <th>0</th>\n",
       "      <td>http://kaiko.getalp.org/dbnary#dbnaryNymRelati...</td>\n",
       "      <td>http://kaiko.getalp.org/dbnary/statistics/dbna...</td>\n",
       "      <td>The Data Cube containing observations on nym r...</td>\n",
       "    </tr>\n",
       "    <tr>\n",
       "      <th>1</th>\n",
       "      <td>http://kaiko.getalp.org/dbnary#dbnaryStatistic...</td>\n",
       "      <td>http://kaiko.getalp.org/dbnary/statistics/dbna...</td>\n",
       "      <td>The Data Cube containing general observations ...</td>\n",
       "    </tr>\n",
       "    <tr>\n",
       "      <th>2</th>\n",
       "      <td>http://kaiko.getalp.org/dbnary#dbnaryTranslati...</td>\n",
       "      <td>http://kaiko.getalp.org/dbnary/statistics/dbna...</td>\n",
       "      <td>The Data Cube containing observations on trans...</td>\n",
       "    </tr>\n",
       "    <tr>\n",
       "      <th>3</th>\n",
       "      <td>http://kaiko.getalp.org/dbnary#enhancementConf...</td>\n",
       "      <td>http://kaiko.getalp.org/dbnary/statistics/enha...</td>\n",
       "      <td>The Data Cube containing the confidence measur...</td>\n",
       "    </tr>\n",
       "    <tr>\n",
       "      <th>4</th>\n",
       "      <td>http://kaiko.getalp.org/dbnary#translationGlos...</td>\n",
       "      <td>http://kaiko.getalp.org/dbnary/statistics/tran...</td>\n",
       "      <td>The Data Cube containing observations on gloss...</td>\n",
       "    </tr>\n",
       "  </tbody>\n",
       "</table>\n",
       "</div>"
      ],
      "text/plain": [
       "                                           structure  \\\n",
       "0  http://kaiko.getalp.org/dbnary#dbnaryNymRelati...   \n",
       "1  http://kaiko.getalp.org/dbnary#dbnaryStatistic...   \n",
       "2  http://kaiko.getalp.org/dbnary#dbnaryTranslati...   \n",
       "3  http://kaiko.getalp.org/dbnary#enhancementConf...   \n",
       "4  http://kaiko.getalp.org/dbnary#translationGlos...   \n",
       "\n",
       "                                             dataset  \\\n",
       "0  http://kaiko.getalp.org/dbnary/statistics/dbna...   \n",
       "1  http://kaiko.getalp.org/dbnary/statistics/dbna...   \n",
       "2  http://kaiko.getalp.org/dbnary/statistics/dbna...   \n",
       "3  http://kaiko.getalp.org/dbnary/statistics/enha...   \n",
       "4  http://kaiko.getalp.org/dbnary/statistics/tran...   \n",
       "\n",
       "                                         commentaire  \n",
       "0  The Data Cube containing observations on nym r...  \n",
       "1  The Data Cube containing general observations ...  \n",
       "2  The Data Cube containing observations on trans...  \n",
       "3  The Data Cube containing the confidence measur...  \n",
       "4  The Data Cube containing observations on gloss...  "
      ]
     },
     "execution_count": 8,
     "metadata": {},
     "output_type": "execute_result"
    }
   ],
   "source": [
    "get_datasets(\"http://kaiko.getalp.org/sparql\")"
   ]
  },
  {
   "cell_type": "code",
   "execution_count": null,
   "id": "ae59e50a-ecb2-48d8-b076-d28df2f6347f",
   "metadata": {},
   "outputs": [],
   "source": []
  }
 ],
 "metadata": {
  "kernelspec": {
   "display_name": "dbnary-datacube",
   "language": "python",
   "name": "ex"
  },
  "language_info": {
   "codemirror_mode": {
    "name": "ipython",
    "version": 3
   },
   "file_extension": ".py",
   "mimetype": "text/x-python",
   "name": "python",
   "nbconvert_exporter": "python",
   "pygments_lexer": "ipython3",
   "version": "3.9.5"
  }
 },
 "nbformat": 4,
 "nbformat_minor": 5
}
