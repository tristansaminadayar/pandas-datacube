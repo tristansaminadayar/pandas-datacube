{
 "cells": [
  {
   "cell_type": "markdown",
   "metadata": {},
   "source": [
    "Visualisation des différentes statistiques de Dbnary\n",
    "============="
   ]
  },
  {
   "cell_type": "code",
   "execution_count": 1,
   "metadata": {
    "tags": []
   },
   "outputs": [],
   "source": [
    "# RDF\n",
    "import rdflib\n",
    "from rdflib.namespace import *\n",
    "\n",
    "# Data analys \n",
    "import numpy as np\n",
    "\n",
    "#  PLotting\n",
    "import bqplot as bq\n",
    "from ipywidgets import Layout, Box, HBox, VBox\n",
    "\n",
    "from IPython.display import Markdown, clear_output\n",
    "\n",
    "import warnings\n",
    "warnings.filterwarnings(\"ignore\")\n",
    "\n",
    "ENDPOINT: str = \"http://kaiko.getalp.org/sparql\"\n",
    "HTML_COLORS = ['Aqua', 'Fuchsia', 'Teal', 'Purple', 'Blue', 'Red', 'Navy', 'Maroon', 'Olive', 'Gray', 'Lime', 'Silver', 'Green', 'Black']"
   ]
  },
  {
   "cell_type": "markdown",
   "metadata": {},
   "source": [
    "### Classe qui retourne un DataFrame des résultats d'une requête SPARQL et autes fonctions utilitaires"
   ]
  },
  {
   "cell_type": "code",
   "execution_count": 2,
   "metadata": {
    "tags": []
   },
   "outputs": [],
   "source": [
    "# %load ../../src/SPARQL_query\n",
    "import datetime\n",
    "import time as tm\n",
    "from typing import NoReturn\n",
    "\n",
    "import pandas as pd\n",
    "from IPython.display import display\n",
    "from SPARQLWrapper import SPARQLWrapper\n",
    "from ipywidgets import widgets\n",
    "\n",
    "\n",
    "def add_progress_bar(fun: callable):\n",
    "    def function_modif(*args, **kwargs):\n",
    "        progress_bar = widgets.IntProgress(bar_style='success', description='Loading:')\n",
    "        display(progress_bar)\n",
    "        kwargs['widget'] = progress_bar\n",
    "        ret = fun(*args, **kwargs)\n",
    "        progress_bar.close()\n",
    "        return ret\n",
    "\n",
    "    return function_modif\n",
    "\n",
    "\n",
    "class SPARQLquery:\n",
    "    \"\"\"\n",
    "    Class allowing to make a query on a remote SPARQL server, its main characteristics are :\n",
    "     - Taking into account the big answers by concatenating them as they are received\n",
    "     - Ability to access the size of the database\n",
    "     - Ability to retrieve the response in `pandas` data frame format\n",
    "    \"\"\"\n",
    "\n",
    "    def __init__(self, endpoint: str, query: str, verbose: bool = False, step: int = 5000,\n",
    "                 widget: widgets.IntProgress = None) -> NoReturn:\n",
    "        \"\"\"\n",
    "\n",
    "\n",
    "        :param endpoint: Url to the remote SPARQL service\n",
    "        :param query: The query\n",
    "        :param verbose: If the detail text will be displayed\n",
    "        :param step: The max number of result to receive\n",
    "        \"\"\"\n",
    "        self.sparql = SPARQLWrapper(endpoint)\n",
    "        self.sparql.setReturnFormat(\"json\")\n",
    "\n",
    "        self.query: str = query\n",
    "        self.verbose: bool = verbose\n",
    "        self.step: int = step\n",
    "        self.resultSize: int = self.get_result_size()\n",
    "        self.is_widget: bool = False\n",
    "\n",
    "        if widget:\n",
    "            self.widget = widget\n",
    "            self.widget.max = self.resultSize\n",
    "            self.widget.value = 0\n",
    "            self.is_widget = True\n",
    "\n",
    "    def get_result_size(self) -> int:\n",
    "        \"\"\"\n",
    "        Function return the size of a query (only in SELECT query).\n",
    "        \"\"\"\n",
    "\n",
    "        if self.query.strip().startswith(\"SELECT\") or self.query.strip().startswith(\n",
    "                \"select\"):  # Modifie the query to count the number of answer\n",
    "\n",
    "            if self.verbose:\n",
    "                print(tm.strftime(f\"[%H:%M:%S] Obtention du nombre de résultats avant exécuter la requête\"))\n",
    "\n",
    "            start: int = 7  # We detect the position of the first variable after the select\n",
    "            while self.query[start] != '?':\n",
    "                start += 1\n",
    "            end: int = start\n",
    "            while self.query[end:end + 5] != \"WHERE\" and self.query[end:end + 5] != \"where\":\n",
    "                end += 1\n",
    "\n",
    "            mot: str = self.query[start: end - 1]  # THe name of the variable\n",
    "\n",
    "            self.sparql.setQuery(self.query.replace(mot, f\"(COUNT (*) as ?cnt)\", 1))\n",
    "            processed_results: dict = self.sparql.query().convert()  # Do the query\n",
    "            number_of_results: int = int(processed_results['results']['bindings'][0]['cnt']['value'])\n",
    "\n",
    "            if self.verbose:\n",
    "                print(tm.strftime(f\"[%H:%M:%S] Il y a  {number_of_results} résultats...\"))\n",
    "\n",
    "            return number_of_results\n",
    "        return 1\n",
    "\n",
    "    def get_sparql_dataframe(self, query: str, text: str = \"\") -> pd.DataFrame:\n",
    "        \"\"\"\n",
    "        Helper function to convert SPARQL results into a Pandas data frame.\n",
    "\n",
    "        Credit: Douglas Fils\n",
    "\n",
    "        :param query: The query to perform\n",
    "        :param text: optional text to print in verbose mode\n",
    "        \"\"\"\n",
    "\n",
    "        if self.verbose:\n",
    "            print(tm.strftime(f\"[%H:%M:%S] Transmission {text} en cours...\"), end='')\n",
    "\n",
    "        self.sparql.setQuery(query)\n",
    "\n",
    "        processed_results: dict = self.sparql.query().convert()\n",
    "\n",
    "        if self.verbose:\n",
    "            print(tm.strftime(f\"\\r[%H:%M:%S] Transmission {text} réussi, conversion en Data Frame...\"), end='')\n",
    "\n",
    "        cols = processed_results['head']['vars']\n",
    "\n",
    "        out = [[row.get(c, {}).get('value') for c in cols] for row in processed_results['results']['bindings']]\n",
    "\n",
    "        if self.is_widget:\n",
    "            if text == \"\":\n",
    "                self.widget.value = self.widget.max\n",
    "            else:\n",
    "                self.widget.value = int(text.split(' ')[0])\n",
    "\n",
    "        if self.verbose:\n",
    "            print(tm.strftime(f\" Effectué\"))\n",
    "\n",
    "        return pd.DataFrame(out, columns=cols)\n",
    "\n",
    "    def do_query(self) -> pd.DataFrame:\n",
    "        \"\"\"\n",
    "        Performs the query all at once if the result is not too big or little by little otherwise,\n",
    "        if the query is not a selection it will be done all at once.\n",
    "\n",
    "        :return: The result of the query\n",
    "        \"\"\"\n",
    "        if self.resultSize > self.step:\n",
    "            query = self.query + f\" LIMIT {self.step}\"\n",
    "            return pd.concat(\n",
    "                [self.get_sparql_dataframe(query + f\" OFFSET {value}\", f\"{value} sur {self.resultSize}\") for value in\n",
    "                 range(0, self.resultSize, self.step)])\n",
    "        return self.get_sparql_dataframe(self.query)\n",
    "\n",
    "\n",
    "@add_progress_bar\n",
    "def get_datasets(endpoint: str, verbose: bool = False, widget: widgets.IntProgress = None):\n",
    "    \"\"\"\n",
    "    Dbnary specific function;\n",
    "\n",
    "    Get all datasets available names on Dbnary and their description.\n",
    "\n",
    "    :param endpoint: The address of the SPARQL server\n",
    "    :param verbose: If the detail text will be displayed\n",
    "    :param widget: If the detail widget will be displayed\n",
    "    :return: The data frame of all datasets available names and their description\n",
    "    \"\"\"\n",
    "\n",
    "    query: str = \"SELECT ?dataset ?commentaire WHERE {?dataset a qb:DataSet ; rdfs:comment ?commentaire}\"\n",
    "\n",
    "    if verbose:\n",
    "        print(tm.strftime(f\"[%H:%M:%S] Requête au serveur des différents datasets disponible... \"))\n",
    "\n",
    "    list_datasets: pd.DataFrame = SPARQLquery(endpoint, query, verbose=verbose,\n",
    "                                              widget=widget).do_query()  # We recovers all DataSets Structure\n",
    "\n",
    "    if verbose:\n",
    "        print(tm.strftime(f\"[%H:%M:%S] Il y a {len(list_datasets)} datasets disponibles\"))\n",
    "\n",
    "    return list_datasets\n",
    "\n",
    "\n",
    "@add_progress_bar\n",
    "def get_features(endpoint: str, dataset_name: str, widget: widgets.IntProgress = None) -> pd.DataFrame:\n",
    "    \"\"\"\n",
    "    Dbnary specific function;\n",
    "\n",
    "    Get all features available names on a dataset in Dbnary.\n",
    "\n",
    "    :param endpoint: The address of the SPARQL server\n",
    "    :param dataset_name: The name of the dataset where you want to have its features\n",
    "    :param widget: If the detail widget will be displayed\n",
    "    :return: The data frame of all datasets features names available\n",
    "    \"\"\"\n",
    "    query: str = f\"\"\"DESCRIBE ?item WHERE {'{'} ?item qb:dataSet <{dataset_name}> {'}'} LIMIT 1\"\"\"\n",
    "    result: pd.DataFrame = SPARQLquery(endpoint, query, widget=widget).do_query()\n",
    "    return result['p'].to_frame(name=None).set_axis([\"Caractéristiques\"], axis=1)\n",
    "\n",
    "\n",
    "@add_progress_bar\n",
    "def download_dataset(endpoint: str, dataset_name: str, features_names: list[str],\n",
    "                     widget: widgets.IntProgress = None) -> pd.DataFrame:\n",
    "    \"\"\"\n",
    "    Dbnary specific function;\n",
    "\n",
    "    Download and return all selected features of a dataset\n",
    "\n",
    "    :param endpoint: The address of the SPARQL server\n",
    "    :param dataset_name: The name of the dataset where you want to download its features\n",
    "    :param features_names: The names of features to download\n",
    "    :param widget: If the detail widget will be displayed\n",
    "    :return: The data frame of selected and downloaded characteristics of a dataset\n",
    "    \"\"\"\n",
    "\n",
    "    # We will build the query\n",
    "    query: str = \"SELECT \"\n",
    "    vars_list: list[str] = [item.split('#')[-1] for item in features_names]\n",
    "    for item in vars_list:\n",
    "        query += f\"?{item} \"\n",
    "    query += f\"WHERE {'{'} ?o qb:dataSet <{dataset_name}> . \"\n",
    "    for uri, name in zip(features_names, vars_list):\n",
    "        query += f\"?o <{uri}> ?{name} . \"\n",
    "    query += \"} \"\n",
    "\n",
    "    # Do the query\n",
    "    return SPARQLquery(endpoint, query, widget=widget).do_query()\n",
    "\n",
    "\n",
    "def transformation_date(date: int) -> datetime.datetime:\n",
    "    if int(date[6:]) == 0:\n",
    "        return datetime.datetime(year=int(date[:4]), month=int(date[4:6]), day=int(date[6:]) + 1)\n",
    "    return datetime.datetime(year=int(date[:4]), month=int(date[4:6]), day=int(date[6:]))\n"
   ]
  },
  {
   "cell_type": "markdown",
   "metadata": {},
   "source": [
    "### On commence par chercher tout les différents types de datasets et on va proposer à l'utilisateur de choisir quel dataset télécharger"
   ]
  },
  {
   "cell_type": "markdown",
   "metadata": {},
   "source": [
    "### Traitement des certains Datasets particulier, le code ci-dessous n'est pas généralisable\n",
    "#### 1. dbnaryNymRelationsCube"
   ]
  },
  {
   "cell_type": "code",
   "execution_count": 3,
   "metadata": {
    "tags": []
   },
   "outputs": [
    {
     "data": {
      "application/vnd.jupyter.widget-view+json": {
       "model_id": "",
       "version_major": 2,
       "version_minor": 0
      },
      "text/plain": [
       "IntProgress(value=0, bar_style='success', description='Loading:')"
      ]
     },
     "metadata": {},
     "output_type": "display_data"
    },
    {
     "data": {
      "application/vnd.jupyter.widget-view+json": {
       "model_id": "2ef876e44ba841e48584ea19640490a3",
       "version_major": 2,
       "version_minor": 0
      },
      "text/plain": [
       "ToggleButtons(description='Choix:', options=(('Statistiques globales', 'glob'), ('Par pays', 'pays')), tooltip…"
      ]
     },
     "metadata": {},
     "output_type": "display_data"
    },
    {
     "data": {
      "application/vnd.jupyter.widget-view+json": {
       "model_id": "7897a98e9aff4949af6a93a97ce93762",
       "version_major": 2,
       "version_minor": 0
      },
      "text/plain": [
       "Output()"
      ]
     },
     "metadata": {},
     "output_type": "display_data"
    }
   ],
   "source": [
    "dataset = \"http://kaiko.getalp.org/dbnary/statistics/dbnaryNymRelationsCube\"\n",
    "features = ('http://kaiko.getalp.org/dbnary#count', 'http://kaiko.getalp.org/dbnary#wiktionaryDumpVersion', 'http://kaiko.getalp.org/dbnary#nymRelation', 'http://kaiko.getalp.org/dbnary#observationLanguage')\n",
    "data1 = download_dataset(ENDPOINT, dataset, features)\n",
    "data1['count'] = data1['count'].astype(int) # Change type of values to int\n",
    "\n",
    "relations = data1['nymRelation'].unique()\n",
    "labels = [item.split('#')[-1] for item in relations]\n",
    "\n",
    "data1 = data1.pivot_table(columns='nymRelation', index = ['wiktionaryDumpVersion', 'observationLanguage'], aggfunc=lambda x: max(x)).reset_index().sort_values(by='observationLanguage').sort_values(by='wiktionaryDumpVersion')\n",
    "\n",
    "data1[\"wiktionaryDumpVersion\"] = data1[\"wiktionaryDumpVersion\"].map(transformation_date)\n",
    "\n",
    "\n",
    "out1 = widgets.Output()\n",
    "\n",
    "choice1 = widgets.ToggleButtons(options=[('Statistiques globales', 'glob'), ('Par pays', 'pays')],  description='Choix:',\n",
    "    disabled=False, tooltips=['Statistiques de tout les pays par années', 'Statistiques d\\' pays au cours du temps'])\n",
    "\n",
    "def event1(obj):\n",
    "    with out1:\n",
    "        clear_output()\n",
    "        if choice1.value == \"pays\":\n",
    "            user_choice = widgets.Dropdown(options = list(data1[\"observationLanguage\"].unique()), description=\"Choix:\")\n",
    "\n",
    "            choosed_data = data1[data1[\"observationLanguage\"] == user_choice.value]\n",
    "\n",
    "            y_sc = bq.LinearScale()\n",
    "            x_ord = bq.scales.DateScale()\n",
    "            \n",
    "            line = bq.Lines(x=choosed_data[\"wiktionaryDumpVersion\"] , y=choosed_data[\"count\"][relations].T, stroke_width=1, display_legend=True, labels= labels, scales={'x': x_ord, 'y': y_sc})\n",
    "            ax_x = bq.Axis(scale=x_ord, grid_lines='solid', label='Date', tick_format = '%m %Y')\n",
    "            ax_y = bq.Axis(scale=y_sc, orientation='vertical', grid_lines='solid', label='Valeur', label_offset='-50')\n",
    "            fig = bq.Figure(marks=[line], axes=[ax_x, ax_y], title=f\"Différentes relations lexicales dans l'extraction {user_choice.value}\", animation_duration = 1000)\n",
    "\n",
    "            def edit_graph(obj):\n",
    "                choosed_data = data1[data1[\"observationLanguage\"] == user_choice.value]\n",
    "                line.y = choosed_data[\"count\"][relations].T\n",
    "                line.x = choosed_data[\"wiktionaryDumpVersion\"]\n",
    "                fig.title = f\"Différentes relations lexicales dans l'extraction {user_choice.value}\"\n",
    "            \n",
    "        if choice1.value == \"glob\":\n",
    "            user_choice = widgets.Dropdown(options = [(np.datetime_as_string(item, unit='D'), item) for item in data1[\"wiktionaryDumpVersion\"].unique()],\n",
    "                                           description=\"Choix:\", value = max(data1[\"wiktionaryDumpVersion\"].unique()))\n",
    "            \n",
    "            x_ord = bq.OrdinalScale()\n",
    "            y_sc = bq.LinearScale()\n",
    "            \n",
    "            choosed_data = data1[data1[\"wiktionaryDumpVersion\"] == user_choice.value]\n",
    "            \n",
    "            x = choosed_data[\"observationLanguage\"].values\n",
    "            y = choosed_data[\"count\"][relations].T\n",
    "            \n",
    "            bar = bq.Bars(x=x, y=y, scales={'x': x_ord, 'y':y_sc}, type='stacked', labels = labels, color_mode = 'element', display_legend=True,  colors =[\"red\", \"blue\", \"cyan\", \"pink\", \"lime\", \"purple\", \"orange\", \"fuchsia\"])\n",
    "            ax_x = bq.Axis(scale=x_ord, grid_lines='solid', label='Pays')\n",
    "            ax_y = bq.Axis(scale=y_sc, orientation='vertical', grid_lines='solid', label='Valeur', label_offset='-50')\n",
    "            fig = bq.Figure(marks=[bar], axes=[ax_x, ax_y], title=f\"Nombre de relations lexicales dans l'extraction du {np.datetime_as_string(user_choice.value, unit='D')}\", animation_duration = 1000)\n",
    "            \n",
    "            def edit_graph(obj):\n",
    "                choosed_data = data1[data1[\"wiktionaryDumpVersion\"] == user_choice.value]\n",
    "                bar.x = choosed_data[\"observationLanguage\"].values\n",
    "                bar.y = choosed_data[\"count\"][relations].T\n",
    "                fig.title = f\"Nombre de relations lexicales dans l'extraction du {np.datetime_as_string(user_choice.value, unit='D')}\"\n",
    "            \n",
    "            def add_pie_chart_in_tooltip(chart, d):\n",
    "                idx = d[\"data\"][\"index\"]\n",
    "                bar.tooltip = widgets.HTML(pd.DataFrame(data1[data1[\"wiktionaryDumpVersion\"] == user_choice.value].iloc[idx][\"count\"]).to_html())\n",
    "                \n",
    "                \n",
    "            \n",
    "            bar.on_hover(add_pie_chart_in_tooltip)    \n",
    "        display(user_choice, fig)\n",
    "        user_choice.observe(edit_graph,'value')\n",
    "    \n",
    "choice1.observe(event1, 'value')\n",
    "display(choice1, out1)\n",
    "event1(None)\n"
   ]
  },
  {
   "cell_type": "markdown",
   "metadata": {},
   "source": [
    "#### 2. dbnaryStatisticsCube"
   ]
  },
  {
   "cell_type": "code",
   "execution_count": 4,
   "metadata": {
    "tags": []
   },
   "outputs": [
    {
     "data": {
      "application/vnd.jupyter.widget-view+json": {
       "model_id": "",
       "version_major": 2,
       "version_minor": 0
      },
      "text/plain": [
       "IntProgress(value=0, bar_style='success', description='Loading:')"
      ]
     },
     "metadata": {},
     "output_type": "display_data"
    },
    {
     "data": {
      "application/vnd.jupyter.widget-view+json": {
       "model_id": "7f1dc4de0d0742478f017695bdb05658",
       "version_major": 2,
       "version_minor": 0
      },
      "text/plain": [
       "ToggleButtons(description='Choix:', options=(('Statistiques globales', 'glob'), ('Par pays', 'pays')), tooltip…"
      ]
     },
     "metadata": {},
     "output_type": "display_data"
    },
    {
     "data": {
      "application/vnd.jupyter.widget-view+json": {
       "model_id": "d5658cf6ac644c6c92b9804b8be4f7a3",
       "version_major": 2,
       "version_minor": 0
      },
      "text/plain": [
       "Output()"
      ]
     },
     "metadata": {},
     "output_type": "display_data"
    }
   ],
   "source": [
    "dataset = \"http://kaiko.getalp.org/dbnary/statistics/dbnaryStatisticsCube\"\n",
    "features = ('http://kaiko.getalp.org/dbnary#lexicalEntryCount', 'http://kaiko.getalp.org/dbnary#lexicalSenseCount', \n",
    "            'http://kaiko.getalp.org/dbnary#observationLanguage', 'http://kaiko.getalp.org/dbnary#wiktionaryDumpVersion', \n",
    "            'http://kaiko.getalp.org/dbnary#pageCount', 'http://kaiko.getalp.org/dbnary#translationsCount')\n",
    "data2 = download_dataset(ENDPOINT, dataset, features).sort_values(by='wiktionaryDumpVersion')\n",
    "\n",
    "categories = [\"lexicalEntryCount\", \"translationsCount\", \"lexicalSenseCount\", \"pageCount\"]\n",
    "data2[categories] = data2[categories].astype(int)\n",
    "\n",
    "data2[\"wiktionaryDumpVersion\"] = data2[\"wiktionaryDumpVersion\"].map(transformation_date)\n",
    "\n",
    "out2 = widgets.Output()\n",
    "\n",
    "choice2 = widgets.ToggleButtons(options=[('Statistiques globales', 'glob'), ('Par pays', 'pays')],  description='Choix:',\n",
    "    disabled=False, tooltips=['Statistiques de tout les pays par années', 'Statistiques d\\' pays au cours du temps'])\n",
    "\n",
    "def event2(obj):\n",
    "    with out2:\n",
    "        clear_output()\n",
    "        if choice2.value == \"pays\":\n",
    "            user_choice = widgets.Dropdown(options = list(data2[\"observationLanguage\"].unique()), description=\"Choix:\")\n",
    "\n",
    "            choosed_data = data2[data2[\"observationLanguage\"] == user_choice.value]\n",
    "\n",
    "            y_sc = bq.LinearScale()\n",
    "            x_ord = bq.scales.DateScale()\n",
    "\n",
    "            line = bq.Lines(x=choosed_data[\"wiktionaryDumpVersion\"] , y=choosed_data[categories].T, stroke_width=1, display_legend=True, labels=categories, scales={'x': x_ord, 'y': y_sc})\n",
    "            ax_x = bq.Axis(scale=x_ord, grid_lines='solid', label='Date', tick_format = '%m %Y')\n",
    "            ax_y = bq.Axis(scale=y_sc, orientation='vertical', grid_lines='solid', label='Valeur', label_offset='-50')\n",
    "            fig = bq.Figure(marks=[line], axes=[ax_x, ax_y], title=f\"Nombre d'éléments dans l'extraction {user_choice.value}\", animation_duration = 1000)\n",
    "\n",
    "            def edit_graph(obj):\n",
    "                choosed_data = data2[data2[\"observationLanguage\"] == user_choice.value]\n",
    "                line.y = choosed_data[categories].T\n",
    "                line.x = choosed_data[\"wiktionaryDumpVersion\"]\n",
    "                fig.title = f\"Nombre d'éléments dans l'extraction {user_choice.value}\"\n",
    "                \n",
    "        if choice2.value == \"glob\":\n",
    "            user_choice = widgets.Dropdown(options = [(np.datetime_as_string(item, unit='D'), item) for item in data2[\"wiktionaryDumpVersion\"].unique()], description=\"Choix:\", value = max(data2[\"wiktionaryDumpVersion\"].unique()))\n",
    "            \n",
    "            x_ord = bq.OrdinalScale()\n",
    "            y_sc = bq.LinearScale()\n",
    "            \n",
    "            choosed_data = data2[data2[\"wiktionaryDumpVersion\"] == user_choice.value]\n",
    "            \n",
    "            x = choosed_data[\"observationLanguage\"].values\n",
    "            y = choosed_data[categories].T\n",
    "            \n",
    "            bar = bq.Bars(x=x, y=y, scales={'x': x_ord, 'y':y_sc}, type='stacked', labels = categories, color_mode = 'element', display_legend=True, colors=HTML_COLORS)\n",
    "            ax_x = bq.Axis(scale=x_ord, grid_lines='solid', label='Pays')\n",
    "            ax_y = bq.Axis(scale=y_sc, orientation='vertical', grid_lines='solid', label='Valeur', label_offset='-50')\n",
    "            fig = bq.Figure(marks=[bar], axes=[ax_x, ax_y], title=f\"Nombre de relations lexicales dans l'extraction du {np.datetime_as_string(user_choice.value, unit='D')}\", animation_duration = 1000)\n",
    "            \n",
    "            def edit_graph(obj):\n",
    "                choosed_data = data2[data2[\"wiktionaryDumpVersion\"] == user_choice.value]\n",
    "                bar.x = choosed_data[\"observationLanguage\"].values\n",
    "                bar.y = choosed_data[categories].T\n",
    "                fig.title = f\"Nombre de relations lexicales dans l'extraction du {np.datetime_as_string(user_choice.value, unit='D')}\"\n",
    "            \n",
    "            def add_pie_chart_in_tooltip(chart, d):\n",
    "                idx = d[\"data\"][\"index\"]\n",
    "                bar.tooltip = widgets.HTML(pd.DataFrame(data2[data2[\"wiktionaryDumpVersion\"] == user_choice.value].iloc[idx]).to_html())\n",
    "            \n",
    "            bar.on_hover(add_pie_chart_in_tooltip)    \n",
    "        display(user_choice, fig)\n",
    "        user_choice.observe(edit_graph,'value')\n",
    "        \n",
    "choice2.observe(event2, 'value')\n",
    "display(choice2, out2)\n",
    "event2(None)"
   ]
  },
  {
   "cell_type": "markdown",
   "metadata": {},
   "source": [
    "#### 3. dbnaryTranslationsCube"
   ]
  },
  {
   "cell_type": "code",
   "execution_count": 5,
   "metadata": {},
   "outputs": [
    {
     "data": {
      "application/vnd.jupyter.widget-view+json": {
       "model_id": "",
       "version_major": 2,
       "version_minor": 0
      },
      "text/plain": [
       "IntProgress(value=0, bar_style='success', description='Loading:')"
      ]
     },
     "metadata": {},
     "output_type": "display_data"
    },
    {
     "data": {
      "application/vnd.jupyter.widget-view+json": {
       "model_id": "330498a9eb3a4854ba643010720346c0",
       "version_major": 2,
       "version_minor": 0
      },
      "text/plain": [
       "ToggleButtons(description='Choix:', options=(('Statistiques globales', 'glob'), ('Par pays', 'pays')), tooltip…"
      ]
     },
     "metadata": {},
     "output_type": "display_data"
    },
    {
     "data": {
      "application/vnd.jupyter.widget-view+json": {
       "model_id": "6b54fe40d53e4dac9a3cfaa385d241eb",
       "version_major": 2,
       "version_minor": 0
      },
      "text/plain": [
       "Output()"
      ]
     },
     "metadata": {},
     "output_type": "display_data"
    }
   ],
   "source": [
    "dataset = \"http://kaiko.getalp.org/dbnary/statistics/dbnaryTranslationsCube\"\n",
    "features = ('http://www.w3.org/ns/lemon/lime#language', 'http://kaiko.getalp.org/dbnary#count',\n",
    "            'http://kaiko.getalp.org/dbnary#wiktionaryDumpVersion', 'http://kaiko.getalp.org/dbnary#observationLanguage')\n",
    "data3 = download_dataset(ENDPOINT, dataset, features)\n",
    "\n",
    "relations = data3['language'].unique()\n",
    "relations = relations[relations != \"number_of_languages\"]\n",
    "labels = [item.split('#')[-1] for item in relations]\n",
    "\n",
    "data3[\"count\"] = data3[\"count\"].astype(int)\n",
    "data3[\"wiktionaryDumpVersion\"] = data3[\"wiktionaryDumpVersion\"].map(transformation_date)\n",
    "\n",
    "data3 = data3.pivot_table(columns='language', index = ['wiktionaryDumpVersion', 'observationLanguage'], aggfunc=lambda x: max(x)).reset_index()\n",
    "\n",
    "out3 = widgets.Output()\n",
    "\n",
    "choice3 = widgets.ToggleButtons(options=[('Statistiques globales', 'glob'), ('Par pays', 'pays')],  description='Choix:',\n",
    "    disabled=False, tooltips=['Statistiques de tout les pays par années', 'Statistiques d\\' pays au cours du temps'])\n",
    "\n",
    "def event3(obj):\n",
    "    with out3:\n",
    "        clear_output()\n",
    "        if choice3.value == \"pays\":\n",
    "            user_choice = widgets.Dropdown(options = list(data3[\"observationLanguage\"].unique()), description=\"Choix:\")\n",
    "\n",
    "            choosed_data = data3[data3[\"observationLanguage\"] == user_choice.value]\n",
    "\n",
    "            y_sc = bq.LinearScale()\n",
    "            y_sc2 = bq.LinearScale()\n",
    "            x_ord = bq.scales.DateScale()\n",
    "\n",
    "            line = bq.Lines(x=choosed_data[\"wiktionaryDumpVersion\"] , y=choosed_data[\"count\"][relations].T, stroke_width=1, display_legend=True, labels= labels, scales={'x': x_ord, 'y': y_sc})\n",
    "            line1 = bq.Lines(x=choosed_data[\"wiktionaryDumpVersion\"], y = choosed_data[\"count\"][\"number_of_languages\"].values, scales={'x': x_ord, 'y':y_sc2}, stroke_width=1, display_legend=True, labels= [\"Number of languages\"], colors = ['green'], line_style = \"dashed\")\n",
    "            ax_x = bq.Axis(scale=x_ord, grid_lines='solid', label='Date', tick_format = '%m %Y')\n",
    "            ax_y = bq.Axis(scale=y_sc, orientation='vertical', grid_lines='solid', label='Valeur', label_offset='-50')\n",
    "            ax_y2 = bq.Axis(scale=y_sc2, orientation='vertical', grid_lines='solid', label='Nombre de langues', label_offset='+50', side = \"right\", label_color = \"green\")\n",
    "            fig = bq.Figure(marks=[line, line1], axes=[ax_x, ax_y, ax_y2], title=f\"Nombre de traductions l'extraction {user_choice.value}\", animation_duration = 1000)\n",
    "\n",
    "            def edit_graph(obj):\n",
    "                choosed_data = data3[data3[\"observationLanguage\"] == user_choice.value]\n",
    "                line.y = choosed_data[\"count\"][relations].T\n",
    "                line.x = choosed_data[\"wiktionaryDumpVersion\"]\n",
    "                line1.x = choosed_data[\"wiktionaryDumpVersion\"]\n",
    "                line1.y = choosed_data[\"count\"][\"number_of_languages\"].values\n",
    "                fig.title = f\"Nombre de traductions l'extraction {user_choice.value}\"\n",
    "                \n",
    "        if choice3.value == \"glob\":\n",
    "            \n",
    "            \n",
    "            user_choice = widgets.Dropdown(options = [(np.datetime_as_string(item, unit='D'), item) for item in data3[\"wiktionaryDumpVersion\"].unique()], description=\"Choix:\", value = max(data3[\"wiktionaryDumpVersion\"].unique()))\n",
    "            \n",
    "            x_ord = bq.OrdinalScale()\n",
    "            y_sc = bq.LinearScale()\n",
    "            y_sc2 = bq.LinearScale()\n",
    "            \n",
    "            choosed_data = data3[data3[\"wiktionaryDumpVersion\"] == user_choice.value].sort_values(by=\"observationLanguage\")\n",
    "            \n",
    "            x = choosed_data[\"observationLanguage\"].values\n",
    "            y = choosed_data[\"count\"][relations].T\n",
    "            \n",
    "            bar = bq.Bars(x=x, y=y, scales={'x': x_ord, 'y':y_sc}, type='stacked', labels = labels, color_mode = 'element', display_legend=True,  colors=HTML_COLORS)\n",
    "            line = bq.Lines(x=x, y = choosed_data[\"count\"][\"number_of_languages\"].values, scales={'x': x_ord, 'y':y_sc2}, stroke_width=1, display_legend=True, labels= [\"Number of languages\"], colors = [\"green\"])\n",
    "            ax_x = bq.Axis(scale=x_ord, grid_lines='solid', label='Pays')\n",
    "            ax_y = bq.Axis(scale=y_sc, orientation='vertical', grid_lines='solid', label='Valeur', label_offset='-50')\n",
    "            ax_y2 = bq.Axis(scale=y_sc2, orientation='vertical', grid_lines='solid', label='Nombre de langues', label_offset='+50', side = \"right\", label_color = \"green\")\n",
    "            fig = bq.Figure(marks=[bar, line], axes=[ax_x, ax_y, ax_y2], title=f\"Nombre de traductions dans l'extraction du {np.datetime_as_string(user_choice.value, unit='D')}\", animation_duration = 1000, legend_location=\"top-left\")\n",
    "            \n",
    "            def edit_graph(obj):\n",
    "                choosed_data = data3[data3[\"wiktionaryDumpVersion\"] == user_choice.value].sort_values(by=\"observationLanguage\")\n",
    "                bar.x = choosed_data[\"observationLanguage\"].values\n",
    "                bar.y = choosed_data[\"count\"][relations].T\n",
    "                line.x = bar.x\n",
    "                line.y = choosed_data[\"count\"][\"number_of_languages\"].values\n",
    "                fig.title = f\"Nombre de traductions lexicales dans l'extraction du {np.datetime_as_string(user_choice.value, unit='D')}\"\n",
    "            \n",
    "            def add_pie_chart_in_tooltip(chart, d):\n",
    "                idx = d[\"data\"][\"index\"]\n",
    "                bar.tooltip = widgets.HTML(pd.DataFrame(data3[data3[\"wiktionaryDumpVersion\"] == user_choice.value].iloc[idx][\"count\"]).to_html())\n",
    "            \n",
    "            bar.on_hover(add_pie_chart_in_tooltip)\n",
    "        display(user_choice, fig)\n",
    "        user_choice.observe(edit_graph,'value')\n",
    "\n",
    "choice3.observe(event3, 'value')\n",
    "display(choice3, out3)\n",
    "event3(None)"
   ]
  },
  {
   "cell_type": "markdown",
   "metadata": {},
   "source": [
    "#### 4. enhancementConfidenceDataCube"
   ]
  },
  {
   "cell_type": "code",
   "execution_count": 6,
   "metadata": {
    "tags": []
   },
   "outputs": [
    {
     "data": {
      "application/vnd.jupyter.widget-view+json": {
       "model_id": "",
       "version_major": 2,
       "version_minor": 0
      },
      "text/plain": [
       "IntProgress(value=0, bar_style='success', description='Loading:')"
      ]
     },
     "metadata": {},
     "output_type": "display_data"
    },
    {
     "data": {
      "application/vnd.jupyter.widget-view+json": {
       "model_id": "ae1ae3896fc84420baadb25abec798e0",
       "version_major": 2,
       "version_minor": 0
      },
      "text/plain": [
       "ToggleButtons(description='Choix:', options=(('Statistiques globales', 'glob'), ('Par pays', 'pays')), tooltip…"
      ]
     },
     "metadata": {},
     "output_type": "display_data"
    },
    {
     "data": {
      "application/vnd.jupyter.widget-view+json": {
       "model_id": "5070f08c5e9143eda74990badf7486a9",
       "version_major": 2,
       "version_minor": 0
      },
      "text/plain": [
       "ToggleButtons(description=\"Méthode d'amélioration:\", options=(('Aléatoire', 'random'), ('Dbnary tversky', 'dbn…"
      ]
     },
     "metadata": {},
     "output_type": "display_data"
    },
    {
     "data": {
      "application/vnd.jupyter.widget-view+json": {
       "model_id": "b416b15959d345aa8df3cb0e856195d3",
       "version_major": 2,
       "version_minor": 0
      },
      "text/plain": [
       "Output()"
      ]
     },
     "metadata": {},
     "output_type": "display_data"
    }
   ],
   "source": [
    "dataset = \"http://kaiko.getalp.org/dbnary/statistics/enhancementConfidenceDataCube\"\n",
    "features = ('http://kaiko.getalp.org/dbnary#precisionMeasure', 'http://kaiko.getalp.org/dbnary#recallMeasure',\n",
    "            'http://kaiko.getalp.org/dbnary#f1Measure', 'http://kaiko.getalp.org/dbnary#wiktionaryDumpVersion',\n",
    "            'http://kaiko.getalp.org/dbnary#enhancementMethod', 'http://kaiko.getalp.org/dbnary#observationLanguage')\n",
    "\n",
    "data4t = download_dataset(ENDPOINT, dataset, features).sort_values(by='wiktionaryDumpVersion')\n",
    "\n",
    "categories = [\"precisionMeasure\", \"recallMeasure\", \"f1Measure\"]\n",
    "data4t[categories] = data4t[categories].astype(float)\n",
    "\n",
    "data4t[\"wiktionaryDumpVersion\"] = data4t[\"wiktionaryDumpVersion\"].map(transformation_date)\n",
    "\n",
    "out4 = widgets.Output()\n",
    "\n",
    "choice4 = widgets.ToggleButtons(options=[('Statistiques globales', 'glob'), ('Par pays', 'pays')],  description='Choix:',\n",
    "    disabled=False, tooltips=['Statistiques de tout les pays par années', 'Statistiques d\\' pays au cours du temps'])\n",
    "choice4bis = widgets.ToggleButtons(options=[('Aléatoire', 'random'), ('Dbnary tversky', 'dbnary_tversky')],  description='Méthode d\\'amélioration:',\n",
    "    disabled=False)\n",
    "\n",
    "def event4(obj):\n",
    "    with out4:\n",
    "        clear_output()\n",
    "        data4 = data4t[data4t[\"enhancementMethod\"] == choice4bis.value]\n",
    "        if choice4.value == \"pays\":\n",
    "            user_choice = widgets.Dropdown(options = list(data4[\"observationLanguage\"].unique()), description=\"Choix:\")\n",
    "\n",
    "            choosed_data = data4[data4[\"observationLanguage\"] == user_choice.value]\n",
    "\n",
    "            y_sc = bq.LinearScale()\n",
    "            x_ord = bq.scales.DateScale()\n",
    "\n",
    "            line = bq.Lines(x=choosed_data[\"wiktionaryDumpVersion\"] , y=choosed_data[categories].T, stroke_width=1, display_legend=True, labels=categories, scales={'x': x_ord, 'y': y_sc})\n",
    "            ax_x = bq.Axis(scale=x_ord, grid_lines='solid', label='Date', tick_format = '%m %Y')\n",
    "            ax_y = bq.Axis(scale=y_sc, orientation='vertical', grid_lines='solid', label='Valeur', label_offset='-50')\n",
    "            fig = bq.Figure(marks=[line], axes=[ax_x, ax_y], title=f\"{user_choice.value}\", animation_duration = 1000)\n",
    "\n",
    "            def edit_graph(obj):\n",
    "                choosed_data = data4[data4[\"observationLanguage\"] == user_choice.value]\n",
    "                line.y = choosed_data[categories].T\n",
    "                line.x = choosed_data[\"wiktionaryDumpVersion\"]\n",
    "                fig.title = f\"{user_choice.value}\"\n",
    "                \n",
    "        if choice4.value == \"glob\":\n",
    "            user_choice = widgets.Dropdown(options = [(np.datetime_as_string(item, unit='D'), item) for item in data4[\"wiktionaryDumpVersion\"].unique()], description=\"Choix:\", value = max(data4[\"wiktionaryDumpVersion\"].unique()))\n",
    "            \n",
    "            x_ord = bq.OrdinalScale()\n",
    "            y_sc = bq.LinearScale()\n",
    "            \n",
    "            choosed_data = data4[data4[\"wiktionaryDumpVersion\"] == user_choice.value]\n",
    "            \n",
    "            x = choosed_data[\"observationLanguage\"].values\n",
    "            y = choosed_data[categories].T\n",
    "            \n",
    "            bar = bq.Bars(x=x, y=y, scales={'x': x_ord, 'y':y_sc}, type='stacked', labels = categories, color_mode = 'element', display_legend=True, colors=HTML_COLORS)\n",
    "            bar = bq.Bars(x=x, y=y, scales={'x': x_ord, 'y':y_sc}, type='stacked', labels = categories, color_mode = 'element', display_legend=True, colors=HTML_COLORS)\n",
    "            ax_x = bq.Axis(scale=x_ord, grid_lines='solid', label='Pays')\n",
    "            ax_y = bq.Axis(scale=y_sc, orientation='vertical', grid_lines='solid', label='Valeur', label_offset='-50')\n",
    "            fig = bq.Figure(marks=[bar], axes=[ax_x, ax_y], title=f\"{np.datetime_as_string(user_choice.value, unit='D')}\", animation_duration = 1000)\n",
    "            \n",
    "            def edit_graph(obj):\n",
    "                choosed_data = data4[data4[\"wiktionaryDumpVersion\"] == user_choice.value]\n",
    "                bar.x = choosed_data[\"observationLanguage\"].values\n",
    "                bar.y = choosed_data[categories].T\n",
    "                fig.title = f\"{np.datetime_as_string(user_choice.value, unit='D')}\"\n",
    "            \n",
    "            def add_pie_chart_in_tooltip(chart, d):\n",
    "                idx = d[\"data\"][\"index\"]\n",
    "                bar.tooltip = widgets.HTML(pd.DataFrame(data4[data4[\"wiktionaryDumpVersion\"] == user_choice.value].iloc[idx]).to_html())\n",
    "            \n",
    "            bar.on_hover(add_pie_chart_in_tooltip)    \n",
    "        display(user_choice, fig)\n",
    "        user_choice.observe(edit_graph,'value')\n",
    "        \n",
    "choice4.observe(event4, 'value')\n",
    "choice4bis.observe(event4, 'value')\n",
    "display(choice4, choice4bis, out4)\n",
    "event4(None)"
   ]
  },
  {
   "cell_type": "markdown",
   "metadata": {},
   "source": [
    "#### 5. translationGlossesCube"
   ]
  },
  {
   "cell_type": "code",
   "execution_count": 7,
   "metadata": {
    "tags": []
   },
   "outputs": [
    {
     "data": {
      "application/vnd.jupyter.widget-view+json": {
       "model_id": "",
       "version_major": 2,
       "version_minor": 0
      },
      "text/plain": [
       "IntProgress(value=0, bar_style='success', description='Loading:')"
      ]
     },
     "metadata": {},
     "output_type": "display_data"
    },
    {
     "data": {
      "application/vnd.jupyter.widget-view+json": {
       "model_id": "bf5724d2b5de471abbab9e7abd7b62b1",
       "version_major": 2,
       "version_minor": 0
      },
      "text/plain": [
       "ToggleButtons(description='Choix:', options=(('Statistiques globales', 'glob'), ('Par pays', 'pays')), tooltip…"
      ]
     },
     "metadata": {},
     "output_type": "display_data"
    },
    {
     "data": {
      "application/vnd.jupyter.widget-view+json": {
       "model_id": "72a5e0f220074f8195079061631bd861",
       "version_major": 2,
       "version_minor": 0
      },
      "text/plain": [
       "Output()"
      ]
     },
     "metadata": {},
     "output_type": "display_data"
    }
   ],
   "source": [
    "dataset = \"http://kaiko.getalp.org/dbnary/statistics/translationGlossesCube\"\n",
    "features = ('http://kaiko.getalp.org/dbnary#translationsWithSenseNumber', 'http://kaiko.getalp.org/dbnary#translationsWithSenseNumberAndTextualGloss',\n",
    "            'http://kaiko.getalp.org/dbnary#translationsWithTextualGloss', 'http://kaiko.getalp.org/dbnary#wiktionaryDumpVersion',\n",
    "            'http://kaiko.getalp.org/dbnary#observationLanguage', 'http://kaiko.getalp.org/dbnary#translationsWithNoGloss')\n",
    "\n",
    "data5 = download_dataset(ENDPOINT, dataset, features).sort_values(by='wiktionaryDumpVersion')\n",
    "\n",
    "categories = [\"translationsWithSenseNumber\", \"translationsWithSenseNumberAndTextualGloss\", \"translationsWithTextualGloss\", \"translationsWithNoGloss\"]\n",
    "data5[categories] = data5[categories].astype(int)\n",
    "\n",
    "data5[\"wiktionaryDumpVersion\"] = data5[\"wiktionaryDumpVersion\"].map(transformation_date)\n",
    "\n",
    "out5 = widgets.Output()\n",
    "\n",
    "choice5 = widgets.ToggleButtons(options=[('Statistiques globales', 'glob'), ('Par pays', 'pays')],  description='Choix:',\n",
    "    disabled=False, tooltips=['Statistiques de tout les pays par années', 'Statistiques d\\' pays au cours du temps'])\n",
    "\n",
    "def event5(obj):\n",
    "    with out5:\n",
    "        clear_output()\n",
    "        if choice5.value == \"pays\":\n",
    "            user_choice = widgets.Dropdown(options = list(data5[\"observationLanguage\"].unique()), description=\"Choix:\")\n",
    "\n",
    "            choosed_data = data5[data5[\"observationLanguage\"] == user_choice.value]\n",
    "\n",
    "            y_sc = bq.LinearScale()\n",
    "            x_ord = bq.scales.DateScale()\n",
    "\n",
    "            line = bq.Lines(x=choosed_data[\"wiktionaryDumpVersion\"] , y=choosed_data[categories].T, stroke_width=1, display_legend=True, labels=categories, scales={'x': x_ord, 'y': y_sc})\n",
    "            ax_x = bq.Axis(scale=x_ord, grid_lines='solid', label='Date', tick_format = '%m %Y')\n",
    "            ax_y = bq.Axis(scale=y_sc, orientation='vertical', grid_lines='solid', label='Valeur', label_offset='-50')\n",
    "            fig = bq.Figure(marks=[line], axes=[ax_x, ax_y], title=f\"{user_choice.value}\", animation_duration = 1000)\n",
    "\n",
    "            def edit_graph(obj):\n",
    "                choosed_data = data5[data5[\"observationLanguage\"] == user_choice.value]\n",
    "                line.y = choosed_data[categories].T\n",
    "                line.x = choosed_data[\"wiktionaryDumpVersion\"]\n",
    "                fig.title = f\"{user_choice.value}\"\n",
    "                \n",
    "        if choice5.value == \"glob\":\n",
    "            user_choice = widgets.Dropdown(options = [(np.datetime_as_string(item, unit='D'), item) for item in data5[\"wiktionaryDumpVersion\"].unique()], description=\"Choix:\", value = max(data5[\"wiktionaryDumpVersion\"].unique()))\n",
    "            \n",
    "            x_ord = bq.OrdinalScale()\n",
    "            y_sc = bq.LinearScale()\n",
    "            \n",
    "            choosed_data = data5[data5[\"wiktionaryDumpVersion\"] == user_choice.value]\n",
    "            \n",
    "            \n",
    "            x = choosed_data[\"observationLanguage\"].values\n",
    "            y = choosed_data[categories].T\n",
    "            \n",
    "            bar = bq.Bars(x=x, y=y, scales={'x': x_ord, 'y':y_sc}, type='stacked', labels = categories, color_mode = 'element', display_legend=True, colors=HTML_COLORS)\n",
    "            ax_x = bq.Axis(scale=x_ord, grid_lines='solid', label='Pays')\n",
    "            ax_y = bq.Axis(scale=y_sc, orientation='vertical', grid_lines='solid', label='Valeur', label_offset='-50')\n",
    "            fig = bq.Figure(marks=[bar], axes=[ax_x, ax_y], title=f\"{np.datetime_as_string(user_choice.value, unit='D')}\", animation_duration = 1000)\n",
    "            \n",
    "            def edit_graph(obj):\n",
    "                choosed_data = data5[data5[\"wiktionaryDumpVersion\"] == user_choice.value]\n",
    "                bar.x = choosed_data[\"observationLanguage\"].values\n",
    "                bar.y = choosed_data[categories].T\n",
    "                fig.title = f\"{np.datetime_as_string(user_choice.value, unit='D')}\"\n",
    "            \n",
    "            def add_pie_chart_in_tooltip(chart, d):\n",
    "                idx = d[\"data\"][\"index\"]\n",
    "                bar.tooltip = widgets.HTML(pd.DataFrame(data5[data5[\"wiktionaryDumpVersion\"] == user_choice.value].iloc[idx]).to_html())\n",
    "            \n",
    "            bar.on_hover(add_pie_chart_in_tooltip)    \n",
    "        display(user_choice, fig)\n",
    "        user_choice.observe(edit_graph,'value')\n",
    "        \n",
    "choice5.observe(event5, 'value')\n",
    "display(choice5, out5)\n",
    "event5(None)"
   ]
  }
 ],
 "metadata": {
  "kernelspec": {
   "display_name": "dbnary-datacube",
   "language": "python",
   "name": "ex"
  },
  "language_info": {
   "codemirror_mode": {
    "name": "ipython",
    "version": 3
   },
   "file_extension": ".py",
   "mimetype": "text/x-python",
   "name": "python",
   "nbconvert_exporter": "python",
   "pygments_lexer": "ipython3",
   "version": "3.9.5"
  }
 },
 "nbformat": 4,
 "nbformat_minor": 4
}
