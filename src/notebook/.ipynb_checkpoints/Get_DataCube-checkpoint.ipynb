{
 "cells": [
  {
   "cell_type": "markdown",
   "id": "96fd1a46-a6af-4c80-b93e-17cdfe539c9f",
   "metadata": {},
   "source": [
    "### Download dataset using SPARQL"
   ]
  },
  {
   "cell_type": "code",
   "execution_count": 33,
   "id": "b46be415-870b-4c49-9af8-d5dfcbfb9eb1",
   "metadata": {},
   "outputs": [],
   "source": [
    "import pandas as pd\n",
    "from IPython.core.display import display\n",
    "from IPython.display import Markdown, clear_output\n",
    "from ipywidgets import Layout, Box, VBox, widgets\n",
    "\n",
    "ENDPOINT: str = \"http://kaiko.getalp.org/sparql\" #\"https://statistics.gov.scot/sparql\""
   ]
  },
  {
   "cell_type": "code",
   "execution_count": 34,
   "id": "3f73d709-cccd-4837-818b-278b6af081be",
   "metadata": {},
   "outputs": [],
   "source": [
    "%run ../Dataset_tools"
   ]
  },
  {
   "cell_type": "code",
   "execution_count": 36,
   "id": "849ad8cc-dd1d-4c36-b396-ee6999d21f8a",
   "metadata": {
    "pycharm": {
     "name": "#%%\n"
    },
    "tags": []
   },
   "outputs": [
    {
     "data": {
      "application/vnd.jupyter.widget-view+json": {
       "model_id": "",
       "version_major": 2,
       "version_minor": 0
      },
      "text/plain": [
       "IntProgress(value=0, bar_style='success', description='Loading:')"
      ]
     },
     "metadata": {},
     "output_type": "display_data"
    },
    {
     "data": {
      "text/markdown": [
       "#### Please choose a dataset: "
      ],
      "text/plain": [
       "<IPython.core.display.Markdown object>"
      ]
     },
     "metadata": {},
     "output_type": "display_data"
    },
    {
     "data": {
      "application/vnd.jupyter.widget-view+json": {
       "model_id": "4cf426d331ec41f29f63d8bc1b6fd3fa",
       "version_major": 2,
       "version_minor": 0
      },
      "text/plain": [
       "VBox(children=(Box(children=(Dropdown(description='Choice:', layout=Layout(flex='1 3 auto', width='auto'), opt…"
      ]
     },
     "metadata": {},
     "output_type": "display_data"
    },
    {
     "data": {
      "application/vnd.jupyter.widget-view+json": {
       "model_id": "789ba51ff1d24c00b90422a3d120f4c7",
       "version_major": 2,
       "version_minor": 0
      },
      "text/plain": [
       "Output()"
      ]
     },
     "metadata": {},
     "output_type": "display_data"
    }
   ],
   "source": [
    "list_datasets = get_datasets(ENDPOINT, verbose=False)  # List of all datasets available\n",
    "list_datasets.insert(3, 'dataset_short', [x.split('/')[-1] for x in list_datasets.dataset])\n",
    "\n",
    "DataFrame = pd.DataFrame()  # The dataframe that will contain the dataset\n",
    "output = widgets.Output()\n",
    "\n",
    "if len(list_datasets) == 0:\n",
    "    print(\"No data set was found\")\n",
    "else:\n",
    "    dataset_user_choice = widgets.Dropdown(\n",
    "        options=[(name, full_name) for name, full_name in list_datasets[['dataset_short', 'dataset']].values],\n",
    "        description=\"Choice:\", layout=Layout(flex='1 3 auto', width='auto'))  # The widget that will allow the user to choose which dataset to download\n",
    "\n",
    "    user_choice_confirm = widgets.Button(description='Submit', icon='check',\n",
    "                                         layout=Layout(flex='1 1 auto', width='auto'),\n",
    "                                         tooltip=\"Click here to confirm your choice\"\n",
    "                                         )  # The widget that will allow the user to confirm his choice of dataset\n",
    "\n",
    "    description = widgets.Label(\n",
    "        value=f\"Description: {list_datasets[list_datasets['dataset'] == dataset_user_choice.value]['commentaire'].values[0]}\",\n",
    "        layout=Layout(flex='1 1 auto',\n",
    "                      width='auto'))  # The widget that will display the description of the selected dataset if it exists\n",
    "\n",
    "    box_layout = Layout(display='flex', flex_flow='row', align_items='stretch', width='90%')\n",
    "\n",
    "    line_1 = Box(children=[dataset_user_choice, user_choice_confirm], layout=box_layout)\n",
    "    line_2 = Box(children=[description], layout=box_layout)\n",
    "    ui = VBox([line_1, line_2])\n",
    "\n",
    "\n",
    "    def user_choice_change(obj):  # Update the value of label widget when the user_choice widget change of value\n",
    "        description.value = f\"Description: {list_datasets[list_datasets['dataset'] == dataset_user_choice.value]['commentaire'].values[0]}\"\n",
    "\n",
    "\n",
    "    def user_choice_confirm_eventhandler(obj):\n",
    "        with output:\n",
    "            clear_output()\n",
    "            output2 = widgets.Output()\n",
    "\n",
    "            categories = get_features(ENDPOINT, list_datasets[list_datasets['dataset'] == dataset_user_choice.value]['structure'].values[0])  # Get all features of choosed dataset\n",
    "            categories.insert(2, 'property_short', [x.split('/')[-1].split('#')[-1] for x in categories.property])\n",
    "\n",
    "            display(Markdown(data=\"#### The features of this dataset are: \"), categories)\n",
    "\n",
    "            # The widget that will allow the user to choose which features download\n",
    "            select = widgets.SelectMultiple(\n",
    "                options=[(name, full_name) for name, full_name in categories[['property_short', 'property']].values],\n",
    "                description='Critères: ',\n",
    "                layout=Layout(flex='1 1 auto', width='auto', height=\"auto\"), style={'description_width': 'initial'})\n",
    "\n",
    "            # The widget that will allow the user to confirm his choice of features\n",
    "            select_confirm = widgets.Button(description='Soumettre', icon='check',\n",
    "                                            layout=Layout(flex='1 1 auto', width='auto'),\n",
    "                                            tooltip=\"Cliquer ici pour confirmer votre choix\")\n",
    "\n",
    "            select_box = Box(children=[select], layout=box_layout)\n",
    "            select_confirm_box = Box(children=[select_confirm], layout=box_layout)\n",
    "            select_ui = VBox([select_box, select_confirm_box])\n",
    "\n",
    "            def selection_confirm_eventhandler(obj):\n",
    "                with output2:\n",
    "                    if len(select.value) >= 2:  # We will constuct the query\n",
    "                        global DataFrame\n",
    "                        clear_output()\n",
    "                        data = categories[categories['property'].isin(select.value)]\n",
    "                        dimensions: list[str] = data[data['type'] == \"http://purl.org/linked-data/cube#dimension\"]['property'].to_list()\n",
    "                        measures: list[str] = data[data['type'] == \"http://purl.org/linked-data/cube#measure\"]['property'].to_list()\n",
    "                        if len(dimensions) != 0 and len(measures) != 0:\n",
    "                            # Download selected features from the specified dataset\n",
    "                            DataFrame = download_dataset(ENDPOINT, dataset_user_choice.value, dimensions, measures)\n",
    "                            display(DataFrame)  # Display fists and lasts rows of the dataframe\n",
    "\n",
    "            select_confirm.on_click(selection_confirm_eventhandler)\n",
    "            display(Markdown(\"#### Please choose one dimension and one measure at least: \"), select_ui, output2)\n",
    "\n",
    "\n",
    "    user_choice_confirm.on_click(user_choice_confirm_eventhandler)\n",
    "    dataset_user_choice.observe(user_choice_change, 'value')\n",
    "    display(Markdown(data=\"#### Please choose a dataset: \"), ui, output)"
   ]
  },
  {
   "cell_type": "code",
   "execution_count": null,
   "id": "2fa9a258-fe2d-4c23-8dea-813a5c15c187",
   "metadata": {},
   "outputs": [],
   "source": []
  }
 ],
 "metadata": {
  "kernelspec": {
   "display_name": "dbnary-datacube",
   "language": "python",
   "name": "ex"
  },
  "language_info": {
   "codemirror_mode": {
    "name": "ipython",
    "version": 3
   },
   "file_extension": ".py",
   "mimetype": "text/x-python",
   "name": "python",
   "nbconvert_exporter": "python",
   "pygments_lexer": "ipython3",
   "version": "3.9.5"
  }
 },
 "nbformat": 4,
 "nbformat_minor": 5
}
