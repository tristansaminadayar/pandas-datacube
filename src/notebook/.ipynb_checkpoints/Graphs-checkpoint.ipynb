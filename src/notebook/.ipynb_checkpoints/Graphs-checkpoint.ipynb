{
 "cells": [
  {
   "cell_type": "markdown",
   "metadata": {},
   "source": [
    "Visualisation des différentes statistiques de Dbnary\n",
    "============="
   ]
  },
  {
   "cell_type": "code",
   "execution_count": 1,
   "metadata": {
    "tags": []
   },
   "outputs": [],
   "source": [
    "import datetime\n",
    "\n",
    "#  PLotting\n",
    "import bqplot as bq\n",
    "# Data analys\n",
    "import numpy as np\n",
    "from IPython.display import clear_output\n",
    "\n",
    "ENDPOINT: str = \"http://kaiko.getalp.org/sparql\"\n",
    "HTML_COLORS = [\"red\", \"blue\", \"cyan\", \"pink\", \"lime\", \"purple\", \"orange\", \"fuchsia\", 'Teal', 'Navy', 'Maroon', 'Olive',\n",
    "               'Gray', 'Lime', 'Silver', 'Green', 'Black']"
   ]
  },
  {
   "cell_type": "markdown",
   "metadata": {},
   "source": [
    "### Classe qui retourne un DataFrame des résultats d'une requête SPARQL et autes fonctions utilitaires"
   ]
  },
  {
   "cell_type": "code",
   "execution_count": 2,
   "metadata": {},
   "outputs": [],
   "source": [
    "%run ../Dataset_tools"
   ]
  },
  {
   "cell_type": "code",
   "execution_count": 3,
   "metadata": {
    "tags": []
   },
   "outputs": [],
   "source": [
    "def transformation_date(date: int) -> datetime.datetime:\n",
    "    \"\"\"\n",
    "    Function that transform a date of typr str (YYYYMMDD) to a datetime object\n",
    "    \"\"\"\n",
    "    if int(date[6:]) == 0:  # if the date do'nt exist\n",
    "        return datetime.datetime(year=int(date[:4]), month=int(date[4:6]), day=int(date[6:]) + 1)\n",
    "    return datetime.datetime(year=int(date[:4]), month=int(date[4:6]), day=int(date[6:]))"
   ]
  },
  {
   "cell_type": "markdown",
   "metadata": {},
   "source": [
    "### On commence par chercher tout les différents types de datasets et on va proposer à l'utilisateur de choisir quel dataset télécharger"
   ]
  },
  {
   "cell_type": "markdown",
   "metadata": {},
   "source": [
    "### Traitement des certains Datasets particulier, le code ci-dessous n'est pas généralisable\n",
    "#### 1. dbnaryNymRelationsCube"
   ]
  },
  {
   "cell_type": "code",
   "execution_count": 4,
   "metadata": {
    "tags": []
   },
   "outputs": [
    {
     "data": {
      "application/vnd.jupyter.widget-view+json": {
       "model_id": "",
       "version_major": 2,
       "version_minor": 0
      },
      "text/plain": [
       "IntProgress(value=0, bar_style='success', description='Loading:')"
      ]
     },
     "metadata": {},
     "output_type": "display_data"
    },
    {
     "data": {
      "application/vnd.jupyter.widget-view+json": {
       "model_id": "43ec51ce6a8b4a56a0adc3e2e84c5c2b",
       "version_major": 2,
       "version_minor": 0
      },
      "text/plain": [
       "ToggleButtons(description='Choix:', options=(('Statistiques globales', 'glob'), ('Par pays', 'pays')), tooltip…"
      ]
     },
     "metadata": {},
     "output_type": "display_data"
    },
    {
     "data": {
      "application/vnd.jupyter.widget-view+json": {
       "model_id": "0c105d09969b4aa3afc01d99f69a25c3",
       "version_major": 2,
       "version_minor": 0
      },
      "text/plain": [
       "Output()"
      ]
     },
     "metadata": {},
     "output_type": "display_data"
    }
   ],
   "source": [
    "dataset: str = \"http://kaiko.getalp.org/dbnary/statistics/dbnaryNymRelationsCube\"\n",
    "dimensions: list[str] = ['http://kaiko.getalp.org/dbnary#wiktionaryDumpVersion',\n",
    "                         'http://kaiko.getalp.org/dbnary#nymRelation',\n",
    "                         'http://kaiko.getalp.org/dbnary#observationLanguage']\n",
    "mesures: list[str] = ['http://kaiko.getalp.org/dbnary#count']\n",
    "\n",
    "data1: pd.DataFrame = download_dataset(ENDPOINT, dataset, dimensions, mesures).reset_index()\n",
    "data1['count'] = data1['count'].astype(int)  # Change type of values to int\n",
    "\n",
    "relations1: np.ndarray = data1['nymRelation'].unique()  #  All type of relation in this cube\n",
    "labels1: list[str] = [item.split('#')[-1] for item in relations1]\n",
    "\n",
    "data1 = data1.pivot_table(columns='nymRelation', index=['wiktionaryDumpVersion', 'observationLanguage'],\n",
    "                          aggfunc=max)\n",
    "\n",
    "data1 = data1.reset_index().sort_values(by=['wiktionaryDumpVersion', 'observationLanguage'])\n",
    "\n",
    "data1[\"wiktionaryDumpVersion\"] = data1[\"wiktionaryDumpVersion\"].map(transformation_date)\n",
    "\n",
    "out1 = widgets.Output()\n",
    "\n",
    "choice1 = widgets.ToggleButtons(options=[('Statistiques globales', 'glob'), ('Par pays', 'pays')], description='Choix:',\n",
    "                                disabled=False, tooltips=['Statistiques de tout les pays par années',\n",
    "                                                          'Statistiques d\\' pays au cours du temps'])\n",
    "\n",
    "\n",
    "def event1(obj):\n",
    "    with out1:\n",
    "        clear_output()\n",
    "        if choice1.value == \"pays\":\n",
    "            user_choice = widgets.Dropdown(options=list(data1[\"observationLanguage\"].unique()), description=\"Choix:\")\n",
    "\n",
    "            choosed_data = data1[data1[\"observationLanguage\"] == user_choice.value]\n",
    "\n",
    "            y_sc = bq.LinearScale()\n",
    "            x_ord = bq.scales.DateScale()\n",
    "\n",
    "            line = bq.Lines(x=choosed_data[\"wiktionaryDumpVersion\"], y=choosed_data[\"count\"][relations1].T,\n",
    "                            stroke_width=1, display_legend=True, labels=labels1, scales={'x': x_ord, 'y': y_sc})\n",
    "            ax_x = bq.Axis(scale=x_ord, grid_lines='solid', label='Date', tick_format='%m %Y')\n",
    "            ax_y = bq.Axis(scale=y_sc, orientation='vertical', grid_lines='solid', label='Valeur', label_offset='-50')\n",
    "            fig = bq.Figure(marks=[line], axes=[ax_x, ax_y], animation_duration=1000,\n",
    "                            title=f\"Différentes relations lexicales dans l'extraction {user_choice.value}\")\n",
    "\n",
    "            def edit_graph(obj):\n",
    "                choosed_data = data1[data1[\"observationLanguage\"] == user_choice.value]\n",
    "                line.y = choosed_data[\"count\"][relations1].T\n",
    "                line.x = choosed_data[\"wiktionaryDumpVersion\"]\n",
    "                fig.title = f\"Différentes relations lexicales dans l'extraction {user_choice.value}\"\n",
    "\n",
    "        if choice1.value == \"glob\":\n",
    "            user_choice = widgets.Dropdown(options=[(np.datetime_as_string(item, unit='D'), item) for item in\n",
    "                                                    data1[\"wiktionaryDumpVersion\"].unique()],\n",
    "                                           description=\"Choix:\", value=max(data1[\"wiktionaryDumpVersion\"].unique()))\n",
    "\n",
    "            x_ord = bq.OrdinalScale()\n",
    "            y_sc = bq.LinearScale()\n",
    "\n",
    "            choosed_data = data1[data1[\"wiktionaryDumpVersion\"] == user_choice.value]\n",
    "\n",
    "            x = choosed_data[\"observationLanguage\"].values\n",
    "            y = choosed_data[\"count\"][relations1].T\n",
    "\n",
    "            bar = bq.Bars(x=x, y=y, scales={'x': x_ord, 'y': y_sc}, type='stacked', labels=labels1,\n",
    "                          color_mode='element',\n",
    "                          display_legend=True, colors=HTML_COLORS)\n",
    "            ax_x = bq.Axis(scale=x_ord, grid_lines='solid', label='Pays')\n",
    "            ax_y = bq.Axis(scale=y_sc, orientation='vertical', grid_lines='solid', label='Valeur', label_offset='-50')\n",
    "            fig = bq.Figure(marks=[bar], axes=[ax_x, ax_y], animation_duration=1000,\n",
    "                            title=f\"Nombre de relations lexicales dans l'extraction du {np.datetime_as_string(user_choice.value, unit='D')}\")\n",
    "\n",
    "            def edit_graph(obj):\n",
    "                choosed_data = data1[data1[\"wiktionaryDumpVersion\"] == user_choice.value]\n",
    "                bar.x = choosed_data[\"observationLanguage\"].values\n",
    "                bar.y = choosed_data[\"count\"][relations1].T\n",
    "                fig.title = f\"Nombre de relations lexicales dans l'extraction du {np.datetime_as_string(user_choice.value, unit='D')}\"\n",
    "\n",
    "            def add_pie_chart_in_tooltip(chart, d):\n",
    "                idx = d[\"data\"][\"index\"]\n",
    "                bar.tooltip = widgets.HTML(pd.DataFrame(\n",
    "                    data1[data1[\"wiktionaryDumpVersion\"] == user_choice.value].iloc[idx][\"count\"]).to_html())\n",
    "\n",
    "            bar.on_hover(add_pie_chart_in_tooltip)\n",
    "        display(user_choice, fig)\n",
    "        user_choice.observe(edit_graph, 'value')\n",
    "\n",
    "\n",
    "choice1.observe(event1, 'value')\n",
    "display(choice1, out1)\n",
    "event1(None)\n"
   ]
  },
  {
   "cell_type": "markdown",
   "metadata": {},
   "source": [
    "#### 2. dbnaryStatisticsCube"
   ]
  },
  {
   "cell_type": "code",
   "execution_count": 5,
   "metadata": {
    "tags": []
   },
   "outputs": [
    {
     "data": {
      "application/vnd.jupyter.widget-view+json": {
       "model_id": "",
       "version_major": 2,
       "version_minor": 0
      },
      "text/plain": [
       "IntProgress(value=0, bar_style='success', description='Loading:')"
      ]
     },
     "metadata": {},
     "output_type": "display_data"
    },
    {
     "data": {
      "application/vnd.jupyter.widget-view+json": {
       "model_id": "9858927d7d704761ac9942f39ff62492",
       "version_major": 2,
       "version_minor": 0
      },
      "text/plain": [
       "ToggleButtons(description='Choix:', options=(('Statistiques globales', 'glob'), ('Par pays', 'pays')), tooltip…"
      ]
     },
     "metadata": {},
     "output_type": "display_data"
    },
    {
     "data": {
      "application/vnd.jupyter.widget-view+json": {
       "model_id": "16b06763983a4dedb08b9bd0efe738d2",
       "version_major": 2,
       "version_minor": 0
      },
      "text/plain": [
       "Output()"
      ]
     },
     "metadata": {},
     "output_type": "display_data"
    }
   ],
   "source": [
    "dataset: str = \"http://kaiko.getalp.org/dbnary/statistics/dbnaryStatisticsCube\"\n",
    "dimensions: list[str] = ['http://kaiko.getalp.org/dbnary#observationLanguage',\n",
    "                         'http://kaiko.getalp.org/dbnary#wiktionaryDumpVersion']\n",
    "mesures: list[str] = ['http://kaiko.getalp.org/dbnary#lexicalEntryCount',\n",
    "                       'http://kaiko.getalp.org/dbnary#lexicalSenseCount',\n",
    "                       'http://kaiko.getalp.org/dbnary#pageCount',\n",
    "                       'http://kaiko.getalp.org/dbnary#translationsCount']\n",
    "\n",
    "data2: pd.DataFrame = download_dataset(ENDPOINT, dataset, dimensions, mesures).sort_values(\n",
    "    by=['wiktionaryDumpVersion', 'observationLanguage']).reset_index()\n",
    "\n",
    "categories2: list[str] = [\"lexicalEntryCount\", \"translationsCount\", \"lexicalSenseCount\", \"pageCount\"]\n",
    "data2[categories2] = data2[categories2].astype(int)\n",
    "\n",
    "data2[\"wiktionaryDumpVersion\"] = data2[\"wiktionaryDumpVersion\"].map(transformation_date)\n",
    "\n",
    "out2 = widgets.Output()\n",
    "\n",
    "choice2 = widgets.ToggleButtons(options=[('Statistiques globales', 'glob'), ('Par pays', 'pays')], description='Choix:',\n",
    "                                disabled=False, tooltips=['Statistiques de tout les pays par années',\n",
    "                                                          'Statistiques d\\' pays au cours du temps'])\n",
    "\n",
    "\n",
    "def event2(obj):\n",
    "    with out2:\n",
    "        clear_output()\n",
    "        if choice2.value == \"pays\":\n",
    "            user_choice = widgets.Dropdown(options=list(data2[\"observationLanguage\"].unique()), description=\"Choix:\")\n",
    "\n",
    "            choosed_data = data2[data2[\"observationLanguage\"] == user_choice.value]\n",
    "\n",
    "            y_sc = bq.LinearScale()\n",
    "            x_ord = bq.scales.DateScale()\n",
    "\n",
    "            line = bq.Lines(x=choosed_data[\"wiktionaryDumpVersion\"], y=choosed_data[categories2].T, stroke_width=1,\n",
    "                            display_legend=True, labels=categories2, scales={'x': x_ord, 'y': y_sc})\n",
    "            ax_x = bq.Axis(scale=x_ord, grid_lines='solid', label='Date', tick_format='%m %Y')\n",
    "            ax_y = bq.Axis(scale=y_sc, orientation='vertical', grid_lines='solid', label='Valeur', label_offset='-50')\n",
    "            fig = bq.Figure(marks=[line], axes=[ax_x, ax_y],\n",
    "                            title=f\"Nombre d'éléments dans l'extraction {user_choice.value}\", animation_duration=1000)\n",
    "\n",
    "            def edit_graph(obj):\n",
    "                choosed_data = data2[data2[\"observationLanguage\"] == user_choice.value]\n",
    "                line.y = choosed_data[categories2].T\n",
    "                line.x = choosed_data[\"wiktionaryDumpVersion\"]\n",
    "                fig.title = f\"Nombre d'éléments dans l'extraction {user_choice.value}\"\n",
    "                fig.save_svg(fig.title + \"svg\")\n",
    "\n",
    "        if choice2.value == \"glob\":\n",
    "            user_choice = widgets.Dropdown(options=[(np.datetime_as_string(item, unit='D'), item) for item in\n",
    "                                                    data2[\"wiktionaryDumpVersion\"].unique()], description=\"Choix:\",\n",
    "                                           value=max(data2[\"wiktionaryDumpVersion\"].unique()))\n",
    "\n",
    "            x_ord = bq.OrdinalScale()\n",
    "            y_sc = bq.LinearScale()\n",
    "\n",
    "            choosed_data = data2[data2[\"wiktionaryDumpVersion\"] == user_choice.value]\n",
    "\n",
    "            x = choosed_data[\"observationLanguage\"].values\n",
    "            y = choosed_data[categories2].T\n",
    "\n",
    "            bar = bq.Bars(x=x, y=y, scales={'x': x_ord, 'y': y_sc}, type='stacked', labels=categories2,\n",
    "                          color_mode='element', display_legend=True, colors=HTML_COLORS)\n",
    "            ax_x = bq.Axis(scale=x_ord, grid_lines='solid', label='Pays')\n",
    "            ax_y = bq.Axis(scale=y_sc, orientation='vertical', grid_lines='solid', label='Valeur', label_offset='-50')\n",
    "            fig = bq.Figure(marks=[bar], axes=[ax_x, ax_y], animation_duration=1000,\n",
    "                            title=f\"Nombre de relations lexicales dans l'extraction du {np.datetime_as_string(user_choice.value, unit='D')}\")\n",
    "\n",
    "            def edit_graph(obj):\n",
    "                choosed_data = data2[data2[\"wiktionaryDumpVersion\"] == user_choice.value]\n",
    "                bar.x = choosed_data[\"observationLanguage\"].values\n",
    "                bar.y = choosed_data[categories2].T\n",
    "                fig.title = f\"Nombre de relations lexicales dans l'extraction du {np.datetime_as_string(user_choice.value, unit='D')}\"\n",
    "\n",
    "            def add_pie_chart_in_tooltip(chart, d):\n",
    "                idx = d[\"data\"][\"index\"]\n",
    "                bar.tooltip = widgets.HTML(\n",
    "                    pd.DataFrame(data2[data2[\"wiktionaryDumpVersion\"] == user_choice.value].iloc[idx]).to_html())\n",
    "\n",
    "            bar.on_hover(add_pie_chart_in_tooltip)\n",
    "        display(user_choice, fig)\n",
    "        user_choice.observe(edit_graph, 'value')\n",
    "\n",
    "\n",
    "choice2.observe(event2, 'value')\n",
    "display(choice2, out2)\n",
    "event2(None)"
   ]
  },
  {
   "cell_type": "markdown",
   "metadata": {},
   "source": [
    "#### 3. dbnaryTranslationsCube"
   ]
  },
  {
   "cell_type": "code",
   "execution_count": 6,
   "metadata": {},
   "outputs": [
    {
     "data": {
      "application/vnd.jupyter.widget-view+json": {
       "model_id": "",
       "version_major": 2,
       "version_minor": 0
      },
      "text/plain": [
       "IntProgress(value=0, bar_style='success', description='Loading:')"
      ]
     },
     "metadata": {},
     "output_type": "display_data"
    },
    {
     "data": {
      "application/vnd.jupyter.widget-view+json": {
       "model_id": "6cba4c0099fd4b27aac1ceffeac0b7e4",
       "version_major": 2,
       "version_minor": 0
      },
      "text/plain": [
       "ToggleButtons(description='Choix:', options=(('Statistiques globales', 'glob'), ('Par pays', 'pays')), tooltip…"
      ]
     },
     "metadata": {},
     "output_type": "display_data"
    },
    {
     "data": {
      "application/vnd.jupyter.widget-view+json": {
       "model_id": "a9bacbbca28d4da6991683a7b814dcba",
       "version_major": 2,
       "version_minor": 0
      },
      "text/plain": [
       "Output()"
      ]
     },
     "metadata": {},
     "output_type": "display_data"
    }
   ],
   "source": [
    "dataset: str = \"http://kaiko.getalp.org/dbnary/statistics/dbnaryTranslationsCube\"\n",
    "dimensions: list[str] = ['http://www.w3.org/ns/lemon/lime#language',\n",
    "                         'http://kaiko.getalp.org/dbnary#wiktionaryDumpVersion',\n",
    "                         'http://kaiko.getalp.org/dbnary#observationLanguage']\n",
    "mesures: list[str] = ['http://kaiko.getalp.org/dbnary#count']\n",
    "\n",
    "data3: pd.DataFrame = download_dataset(ENDPOINT, dataset, dimensions, mesures).reset_index()\n",
    "\n",
    "relations3: np.ndarray = data3['language'].unique()\n",
    "relations3 = relations3[relations3 != \"number_of_languages\"]\n",
    "labels3: list[str] = [item.split('#')[-1] for item in relations3]\n",
    "\n",
    "data3[\"count\"] = data3[\"count\"].astype(int)\n",
    "data3[\"wiktionaryDumpVersion\"] = data3[\"wiktionaryDumpVersion\"].map(transformation_date)\n",
    "\n",
    "data3 = data3.pivot_table(columns='language', index=['wiktionaryDumpVersion', 'observationLanguage'],\n",
    "                          aggfunc=max).reset_index().sort_values(by=['wiktionaryDumpVersion', 'observationLanguage'])\n",
    "\n",
    "out3 = widgets.Output()\n",
    "\n",
    "choice3 = widgets.ToggleButtons(options=[('Statistiques globales', 'glob'), ('Par pays', 'pays')], description='Choix:',\n",
    "                                disabled=False, tooltips=['Statistiques de tout les pays par années',\n",
    "                                                          'Statistiques d\\' pays au cours du temps'])\n",
    "\n",
    "\n",
    "def event3(obj):\n",
    "    with out3:\n",
    "        clear_output()\n",
    "        if choice3.value == \"pays\":\n",
    "            user_choice = widgets.Dropdown(options=list(data3[\"observationLanguage\"].unique()), description=\"Choix:\")\n",
    "\n",
    "            choosed_data = data3[data3[\"observationLanguage\"] == user_choice.value]\n",
    "\n",
    "            y_sc = bq.LinearScale()\n",
    "            y_sc2 = bq.LinearScale()\n",
    "            x_ord = bq.scales.DateScale()\n",
    "\n",
    "            line = bq.Lines(x=choosed_data[\"wiktionaryDumpVersion\"], y=choosed_data[\"count\"][relations3].T,\n",
    "                            stroke_width=1, display_legend=True, labels=labels3, scales={'x': x_ord, 'y': y_sc})\n",
    "            line1 = bq.Lines(x=choosed_data[\"wiktionaryDumpVersion\"],\n",
    "                             y=choosed_data[\"count\"][\"number_of_languages\"].values, scales={'x': x_ord, 'y': y_sc2},\n",
    "                             stroke_width=1, display_legend=True, labels=[\"Number of languages\"], colors=['green'],\n",
    "                             line_style=\"dashed\")\n",
    "            ax_x = bq.Axis(scale=x_ord, grid_lines='solid', label='Date', tick_format='%m %Y')\n",
    "            ax_y = bq.Axis(scale=y_sc, orientation='vertical', grid_lines='solid', label='Valeur', label_offset='-50')\n",
    "            ax_y2 = bq.Axis(scale=y_sc2, orientation='vertical', grid_lines='solid', label='Nombre de langues',\n",
    "                            label_offset='+50', side=\"right\", label_color=\"green\")\n",
    "            fig = bq.Figure(marks=[line, line1], axes=[ax_x, ax_y, ax_y2], animation_duration=1000,\n",
    "                            title=f\"Nombre de traductions dans l'extraction {user_choice.value}\")\n",
    "\n",
    "            def edit_graph(obj):\n",
    "                choosed_data = data3[data3[\"observationLanguage\"] == user_choice.value]\n",
    "                line.y = choosed_data[\"count\"][relations3].T\n",
    "                line.x = choosed_data[\"wiktionaryDumpVersion\"]\n",
    "                line1.x = choosed_data[\"wiktionaryDumpVersion\"]\n",
    "                line1.y = choosed_data[\"count\"][\"number_of_languages\"].values\n",
    "                fig.title = f\"Nombre de traductions dans l'extraction {user_choice.value}\"\n",
    "\n",
    "        if choice3.value == \"glob\":\n",
    "            user_choice = widgets.Dropdown(options=[(np.datetime_as_string(item, unit='D'), item) for item in\n",
    "                                                    data3[\"wiktionaryDumpVersion\"].unique()], description=\"Choix:\",\n",
    "                                           value=max(data3[\"wiktionaryDumpVersion\"].unique()))\n",
    "\n",
    "            x_ord = bq.OrdinalScale()\n",
    "            y_sc = bq.LinearScale()\n",
    "            y_sc2 = bq.LinearScale()\n",
    "\n",
    "            choosed_data = data3[data3[\"wiktionaryDumpVersion\"] == user_choice.value]\n",
    "\n",
    "            x = choosed_data[\"observationLanguage\"].values\n",
    "            y = choosed_data[\"count\"][relations3].T\n",
    "\n",
    "            bar = bq.Bars(x=x, y=y, scales={'x': x_ord, 'y': y_sc}, type='stacked', labels=labels3,\n",
    "                          color_mode='element',\n",
    "                          display_legend=True, colors=HTML_COLORS)\n",
    "            line = bq.Lines(x=x, y=choosed_data[\"count\"][\"number_of_languages\"].values, scales={'x': x_ord, 'y': y_sc2},\n",
    "                            stroke_width=1, display_legend=True, labels=[\"Number of languages\"], colors=[\"green\"])\n",
    "            ax_x = bq.Axis(scale=x_ord, grid_lines='solid', label='Pays')\n",
    "            ax_y = bq.Axis(scale=y_sc, orientation='vertical', grid_lines='solid', label='Valeur', label_offset='-50')\n",
    "            ax_y2 = bq.Axis(scale=y_sc2, orientation='vertical', grid_lines='solid', label='Nombre de langues',\n",
    "                            label_offset='+50', side=\"right\", label_color=\"green\")\n",
    "            fig = bq.Figure(marks=[bar, line], axes=[ax_x, ax_y, ax_y2], animation_duration=1000,\n",
    "                            legend_location=\"top-left\",\n",
    "                            title=f\"Nombre de traductions dans l'extraction du {np.datetime_as_string(user_choice.value, unit='D')}\")\n",
    "\n",
    "            def edit_graph(obj):\n",
    "                choosed_data = data3[data3[\"wiktionaryDumpVersion\"] == user_choice.value].sort_values(\n",
    "                    by=\"observationLanguage\")\n",
    "                bar.x = choosed_data[\"observationLanguage\"].values\n",
    "                bar.y = choosed_data[\"count\"][relations3].T\n",
    "                line.x = bar.x\n",
    "                line.y = choosed_data[\"count\"][\"number_of_languages\"].values\n",
    "                fig.title = f\"Nombre de traductions lexicales dans l'extraction du {np.datetime_as_string(user_choice.value, unit='D')}\"\n",
    "\n",
    "            def add_pie_chart_in_tooltip(chart, d):\n",
    "                idx = d[\"data\"][\"index\"]\n",
    "                bar.tooltip = widgets.HTML(pd.DataFrame(\n",
    "                    data3[data3[\"wiktionaryDumpVersion\"] == user_choice.value].iloc[idx][\"count\"]).to_html())\n",
    "\n",
    "            bar.on_hover(add_pie_chart_in_tooltip)\n",
    "        display(user_choice, fig)\n",
    "        user_choice.observe(edit_graph, 'value')\n",
    "\n",
    "\n",
    "choice3.observe(event3, 'value')\n",
    "display(choice3, out3)\n",
    "event3(None)"
   ]
  },
  {
   "cell_type": "markdown",
   "metadata": {},
   "source": [
    "#### 4. enhancementConfidenceDataCube"
   ]
  },
  {
   "cell_type": "code",
   "execution_count": 7,
   "metadata": {
    "tags": []
   },
   "outputs": [
    {
     "data": {
      "application/vnd.jupyter.widget-view+json": {
       "model_id": "",
       "version_major": 2,
       "version_minor": 0
      },
      "text/plain": [
       "IntProgress(value=0, bar_style='success', description='Loading:')"
      ]
     },
     "metadata": {},
     "output_type": "display_data"
    },
    {
     "data": {
      "application/vnd.jupyter.widget-view+json": {
       "model_id": "054c14fee1b34347929309faa3699f12",
       "version_major": 2,
       "version_minor": 0
      },
      "text/plain": [
       "ToggleButtons(description='Choix:', options=(('Statistiques globales', 'glob'), ('Par pays', 'pays')), tooltip…"
      ]
     },
     "metadata": {},
     "output_type": "display_data"
    },
    {
     "data": {
      "application/vnd.jupyter.widget-view+json": {
       "model_id": "e7630923b3af42d0b2a41899636ebfab",
       "version_major": 2,
       "version_minor": 0
      },
      "text/plain": [
       "ToggleButtons(description=\"Méthode d'amélioration:\", options=(('Aléatoire', 'random'), ('Dbnary tversky', 'dbn…"
      ]
     },
     "metadata": {},
     "output_type": "display_data"
    },
    {
     "data": {
      "application/vnd.jupyter.widget-view+json": {
       "model_id": "74b215b8bff444fab92061fa76fa9a34",
       "version_major": 2,
       "version_minor": 0
      },
      "text/plain": [
       "Output()"
      ]
     },
     "metadata": {},
     "output_type": "display_data"
    }
   ],
   "source": [
    "dataset: str = \"http://kaiko.getalp.org/dbnary/statistics/enhancementConfidenceDataCube\"\n",
    "dimensions: list[str] = ['http://kaiko.getalp.org/dbnary#wiktionaryDumpVersion',\n",
    "                         'http://kaiko.getalp.org/dbnary#enhancementMethod',\n",
    "                         'http://kaiko.getalp.org/dbnary#observationLanguage']\n",
    "mesures: list[str] = ['http://kaiko.getalp.org/dbnary#precisionMeasure',\n",
    "                       'http://kaiko.getalp.org/dbnary#recallMeasure',\n",
    "                       'http://kaiko.getalp.org/dbnary#f1Measure']\n",
    "\n",
    "data4t: pd.DataFrame = download_dataset(ENDPOINT, dataset, dimensions, mesures).reset_index().sort_values(\n",
    "    by=['wiktionaryDumpVersion', 'observationLanguage'])\n",
    "\n",
    "categories4: list[str] = [\"precisionMeasure\", \"recallMeasure\", \"f1Measure\"]\n",
    "data4t[categories4] = data4t[categories4].astype(float)\n",
    "\n",
    "data4t[\"wiktionaryDumpVersion\"] = data4t[\"wiktionaryDumpVersion\"].map(transformation_date)\n",
    "\n",
    "out4 = widgets.Output()\n",
    "\n",
    "choice4 = widgets.ToggleButtons(options=[('Statistiques globales', 'glob'), ('Par pays', 'pays')], description='Choix:',\n",
    "                                disabled=False, tooltips=['Statistiques de tout les pays par années',\n",
    "                                                          'Statistiques d\\' pays au cours du temps'])\n",
    "choice4bis = widgets.ToggleButtons(options=[('Aléatoire', 'random'), ('Dbnary tversky', 'dbnary_tversky')],\n",
    "                                   description='Méthode d\\'amélioration:',\n",
    "                                   disabled=False)\n",
    "\n",
    "\n",
    "def event4(obj):\n",
    "    with out4:\n",
    "        clear_output()\n",
    "        data4 = data4t[data4t[\"enhancementMethod\"] == choice4bis.value]\n",
    "        if choice4.value == \"pays\":\n",
    "            user_choice = widgets.Dropdown(options=list(data4[\"observationLanguage\"].unique()), description=\"Choix:\")\n",
    "\n",
    "            choosed_data = data4[data4[\"observationLanguage\"] == user_choice.value]\n",
    "\n",
    "            y_sc = bq.LinearScale()\n",
    "            x_ord = bq.scales.DateScale()\n",
    "\n",
    "            line = bq.Lines(x=choosed_data[\"wiktionaryDumpVersion\"], y=choosed_data[categories4].T, stroke_width=1,\n",
    "                            display_legend=True, labels=categories4, scales={'x': x_ord, 'y': y_sc})\n",
    "            ax_x = bq.Axis(scale=x_ord, grid_lines='solid', label='Date', tick_format='%m %Y')\n",
    "            ax_y = bq.Axis(scale=y_sc, orientation='vertical', grid_lines='solid', label='Valeur', label_offset='-50')\n",
    "            fig = bq.Figure(marks=[line], axes=[ax_x, ax_y], animation_duration=1000,\n",
    "                            title=f\"Précision de la prédiction du contexte de traduction dans l'extraction du {user_choice.value}\")\n",
    "\n",
    "            def edit_graph(obj):\n",
    "                choosed_data = data4[data4[\"observationLanguage\"] == user_choice.value]\n",
    "                line.y = choosed_data[categories4].T\n",
    "                line.x = choosed_data[\"wiktionaryDumpVersion\"]\n",
    "                fig.title = f\"Précision de la prédiction du contexte de traduction dans l'extraction du {user_choice.value}\"\n",
    "\n",
    "        if choice4.value == \"glob\":\n",
    "            user_choice = widgets.Dropdown(options=[(np.datetime_as_string(item, unit='D'), item) for item in\n",
    "                                                    data4[\"wiktionaryDumpVersion\"].unique()], description=\"Choix:\",\n",
    "                                           value=max(data4[\"wiktionaryDumpVersion\"].unique()))\n",
    "\n",
    "            x_ord = bq.OrdinalScale()\n",
    "            y_sc = bq.LinearScale()\n",
    "\n",
    "            choosed_data = data4[data4[\"wiktionaryDumpVersion\"] == user_choice.value]\n",
    "\n",
    "            x = choosed_data[\"observationLanguage\"].values\n",
    "            y = choosed_data[categories4].T\n",
    "\n",
    "            bar = bq.Bars(x=x, y=y, scales={'x': x_ord, 'y': y_sc}, type='stacked', labels=categories4,\n",
    "                          color_mode='element', display_legend=True, colors=HTML_COLORS)\n",
    "            ax_x = bq.Axis(scale=x_ord, grid_lines='solid', label='Pays')\n",
    "            ax_y = bq.Axis(scale=y_sc, orientation='vertical', grid_lines='solid', label='Valeur', label_offset='-50')\n",
    "            fig = bq.Figure(marks=[bar], axes=[ax_x, ax_y], animation_duration=1000,\n",
    "                            title=f\"Précision de la prédiction du contexte de traduction dans l'extraction du {np.datetime_as_string(user_choice.value, unit='D')}\")\n",
    "\n",
    "            def edit_graph(obj):\n",
    "                choosed_data = data4[data4[\"wiktionaryDumpVersion\"] == user_choice.value]\n",
    "                bar.x = choosed_data[\"observationLanguage\"].values\n",
    "                bar.y = choosed_data[categories4].T\n",
    "                fig.title = f\"Précision de la prédiction du contexte de traduction dans l'extraction du {np.datetime_as_string(user_choice.value, unit='D')}\"\n",
    "\n",
    "            def add_pie_chart_in_tooltip(chart, d):\n",
    "                idx = d[\"data\"][\"index\"]\n",
    "                bar.tooltip = widgets.HTML(\n",
    "                    pd.DataFrame(data4[data4[\"wiktionaryDumpVersion\"] == user_choice.value].iloc[idx]).to_html())\n",
    "\n",
    "            bar.on_hover(add_pie_chart_in_tooltip)\n",
    "        display(user_choice, fig)\n",
    "        user_choice.observe(edit_graph, 'value')\n",
    "\n",
    "\n",
    "choice4.observe(event4, 'value')\n",
    "choice4bis.observe(event4, 'value')\n",
    "display(choice4, choice4bis, out4)\n",
    "event4(None)"
   ]
  },
  {
   "cell_type": "markdown",
   "metadata": {},
   "source": [
    "#### 5. translationGlossesCube"
   ]
  },
  {
   "cell_type": "code",
   "execution_count": 8,
   "metadata": {
    "tags": []
   },
   "outputs": [
    {
     "data": {
      "application/vnd.jupyter.widget-view+json": {
       "model_id": "",
       "version_major": 2,
       "version_minor": 0
      },
      "text/plain": [
       "IntProgress(value=0, bar_style='success', description='Loading:')"
      ]
     },
     "metadata": {},
     "output_type": "display_data"
    },
    {
     "data": {
      "application/vnd.jupyter.widget-view+json": {
       "model_id": "703b4d6fb93b4dd58190f313790dd457",
       "version_major": 2,
       "version_minor": 0
      },
      "text/plain": [
       "ToggleButtons(description='Choix:', options=(('Statistiques globales', 'glob'), ('Par pays', 'pays')), tooltip…"
      ]
     },
     "metadata": {},
     "output_type": "display_data"
    },
    {
     "data": {
      "application/vnd.jupyter.widget-view+json": {
       "model_id": "178fe26fdc124b6ba7cc5cc673e708b6",
       "version_major": 2,
       "version_minor": 0
      },
      "text/plain": [
       "Output()"
      ]
     },
     "metadata": {},
     "output_type": "display_data"
    }
   ],
   "source": [
    "dataset: str = \"http://kaiko.getalp.org/dbnary/statistics/translationGlossesCube\"\n",
    "dimensions: list[str] = ['http://kaiko.getalp.org/dbnary#wiktionaryDumpVersion',\n",
    "                         'http://kaiko.getalp.org/dbnary#observationLanguage']\n",
    "mesures: list[str] = ['http://kaiko.getalp.org/dbnary#translationsWithNoGloss',\n",
    "                       'http://kaiko.getalp.org/dbnary#translationsWithSenseNumber',\n",
    "                       'http://kaiko.getalp.org/dbnary#translationsWithSenseNumberAndTextualGloss',\n",
    "                       'http://kaiko.getalp.org/dbnary#translationsWithTextualGloss']\n",
    "\n",
    "data5: pd.DataFrame = download_dataset(ENDPOINT, dataset, dimensions, mesures).reset_index().sort_values(\n",
    "    by=['wiktionaryDumpVersion', 'observationLanguage'])\n",
    "\n",
    "categories5: list[str] = [\"translationsWithSenseNumber\", \"translationsWithSenseNumberAndTextualGloss\",\n",
    "                          \"translationsWithTextualGloss\", \"translationsWithNoGloss\"]\n",
    "data5[categories5] = data5[categories5].astype(int)\n",
    "\n",
    "data5[\"wiktionaryDumpVersion\"] = data5[\"wiktionaryDumpVersion\"].map(transformation_date)\n",
    "\n",
    "out5 = widgets.Output()\n",
    "\n",
    "choice5 = widgets.ToggleButtons(options=[('Statistiques globales', 'glob'), ('Par pays', 'pays')], description='Choix:',\n",
    "                                disabled=False, tooltips=['Statistiques de tout les pays par années',\n",
    "                                                          'Statistiques d\\' pays au cours du temps'])\n",
    "\n",
    "\n",
    "def event5(obj):\n",
    "    with out5:\n",
    "        clear_output()\n",
    "        if choice5.value == \"pays\":\n",
    "            user_choice = widgets.Dropdown(options=list(data5[\"observationLanguage\"].unique()), description=\"Choix:\")\n",
    "\n",
    "            choosed_data = data5[data5[\"observationLanguage\"] == user_choice.value]\n",
    "\n",
    "            y_sc = bq.LinearScale()\n",
    "            x_ord = bq.scales.DateScale()\n",
    "\n",
    "            line = bq.Lines(x=choosed_data[\"wiktionaryDumpVersion\"], y=choosed_data[categories5].T, stroke_width=1,\n",
    "                            display_legend=True, labels=categories5, scales={'x': x_ord, 'y': y_sc})\n",
    "            ax_x = bq.Axis(scale=x_ord, grid_lines='solid', label='Date', tick_format='%m %Y')\n",
    "            ax_y = bq.Axis(scale=y_sc, orientation='vertical', grid_lines='solid', label='Valeur', label_offset='-50')\n",
    "            fig = bq.Figure(marks=[line], axes=[ax_x, ax_y], title=f\"{user_choice.value}\", animation_duration=1000)\n",
    "\n",
    "            def edit_graph(obj):\n",
    "                choosed_data = data5[data5[\"observationLanguage\"] == user_choice.value]\n",
    "                line.y = choosed_data[categories5].T\n",
    "                line.x = choosed_data[\"wiktionaryDumpVersion\"]\n",
    "                fig.title = f\"{user_choice.value}\"\n",
    "\n",
    "        if choice5.value == \"glob\":\n",
    "            user_choice = widgets.Dropdown(options=[(np.datetime_as_string(item, unit='D'), item) for item in\n",
    "                                                    data5[\"wiktionaryDumpVersion\"].unique()], description=\"Choix:\",\n",
    "                                           value=max(data5[\"wiktionaryDumpVersion\"].unique()))\n",
    "\n",
    "            x_ord = bq.OrdinalScale()\n",
    "            y_sc = bq.LinearScale()\n",
    "\n",
    "            choosed_data = data5[data5[\"wiktionaryDumpVersion\"] == user_choice.value]\n",
    "\n",
    "            x = choosed_data[\"observationLanguage\"].values\n",
    "            y = choosed_data[categories5].T\n",
    "\n",
    "            bar = bq.Bars(x=x, y=y, scales={'x': x_ord, 'y': y_sc}, type='stacked', labels=categories5,\n",
    "                          color_mode='element', display_legend=True, colors=HTML_COLORS)\n",
    "            ax_x = bq.Axis(scale=x_ord, grid_lines='solid', label='Pays')\n",
    "            ax_y = bq.Axis(scale=y_sc, orientation='vertical', grid_lines='solid', label='Valeur', label_offset='-50')\n",
    "            fig = bq.Figure(marks=[bar], axes=[ax_x, ax_y],\n",
    "                            title=f\"{np.datetime_as_string(user_choice.value, unit='D')}\", animation_duration=1000)\n",
    "\n",
    "            def edit_graph(obj):\n",
    "                choosed_data = data5[data5[\"wiktionaryDumpVersion\"] == user_choice.value]\n",
    "                bar.x = choosed_data[\"observationLanguage\"].values\n",
    "                bar.y = choosed_data[categories5].T\n",
    "                fig.title = f\"{np.datetime_as_string(user_choice.value, unit='D')}\"\n",
    "\n",
    "            def add_pie_chart_in_tooltip(chart, d):\n",
    "                idx = d[\"data\"][\"index\"]\n",
    "                bar.tooltip = widgets.HTML(\n",
    "                    pd.DataFrame(data5[data5[\"wiktionaryDumpVersion\"] == user_choice.value].iloc[idx]).to_html())\n",
    "\n",
    "            bar.on_hover(add_pie_chart_in_tooltip)\n",
    "        display(user_choice, fig)\n",
    "        user_choice.observe(edit_graph, 'value')\n",
    "\n",
    "\n",
    "choice5.observe(event5, 'value')\n",
    "display(choice5, out5)\n",
    "event5(None)"
   ]
  },
  {
   "cell_type": "code",
   "execution_count": null,
   "metadata": {},
   "outputs": [],
   "source": []
  }
 ],
 "metadata": {
  "kernelspec": {
   "display_name": "dbnary-datacube",
   "language": "python",
   "name": "ex"
  },
  "language_info": {
   "codemirror_mode": {
    "name": "ipython",
    "version": 3
   },
   "file_extension": ".py",
   "mimetype": "text/x-python",
   "name": "python",
   "nbconvert_exporter": "python",
   "pygments_lexer": "ipython3",
   "version": "3.9.5"
  }
 },
 "nbformat": 4,
 "nbformat_minor": 4
}
